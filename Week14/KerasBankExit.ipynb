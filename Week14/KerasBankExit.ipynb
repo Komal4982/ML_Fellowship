{
 "cells": [
  {
   "cell_type": "markdown",
   "metadata": {},
   "source": [
    "# Import Libaries"
   ]
  },
  {
   "cell_type": "code",
   "execution_count": 159,
   "metadata": {},
   "outputs": [],
   "source": [
    "import pandas as pd\n",
    "import numpy as np\n",
    "import matplotlib.pyplot as plt\n",
    "import warnings\n",
    "warnings.filterwarnings('default',category=DeprecationWarning)"
   ]
  },
  {
   "cell_type": "markdown",
   "metadata": {},
   "source": [
    "# Read and Load dataset"
   ]
  },
  {
   "cell_type": "code",
   "execution_count": 160,
   "metadata": {},
   "outputs": [
    {
     "data": {
      "text/html": [
       "<div>\n",
       "<style scoped>\n",
       "    .dataframe tbody tr th:only-of-type {\n",
       "        vertical-align: middle;\n",
       "    }\n",
       "\n",
       "    .dataframe tbody tr th {\n",
       "        vertical-align: top;\n",
       "    }\n",
       "\n",
       "    .dataframe thead th {\n",
       "        text-align: right;\n",
       "    }\n",
       "</style>\n",
       "<table border=\"1\" class=\"dataframe\">\n",
       "  <thead>\n",
       "    <tr style=\"text-align: right;\">\n",
       "      <th></th>\n",
       "      <th>RowNumber</th>\n",
       "      <th>CustomerId</th>\n",
       "      <th>Surname</th>\n",
       "      <th>CreditScore</th>\n",
       "      <th>Geography</th>\n",
       "      <th>Gender</th>\n",
       "      <th>Age</th>\n",
       "      <th>Tenure</th>\n",
       "      <th>Balance</th>\n",
       "      <th>NumOfProducts</th>\n",
       "      <th>HasCrCard</th>\n",
       "      <th>IsActiveMember</th>\n",
       "      <th>EstimatedSalary</th>\n",
       "      <th>Exited</th>\n",
       "    </tr>\n",
       "  </thead>\n",
       "  <tbody>\n",
       "    <tr>\n",
       "      <th>0</th>\n",
       "      <td>1</td>\n",
       "      <td>15634602</td>\n",
       "      <td>Hargrave</td>\n",
       "      <td>619</td>\n",
       "      <td>France</td>\n",
       "      <td>Female</td>\n",
       "      <td>42</td>\n",
       "      <td>2</td>\n",
       "      <td>0.00</td>\n",
       "      <td>1</td>\n",
       "      <td>1</td>\n",
       "      <td>1</td>\n",
       "      <td>101348.88</td>\n",
       "      <td>1</td>\n",
       "    </tr>\n",
       "    <tr>\n",
       "      <th>1</th>\n",
       "      <td>2</td>\n",
       "      <td>15647311</td>\n",
       "      <td>Hill</td>\n",
       "      <td>608</td>\n",
       "      <td>Spain</td>\n",
       "      <td>Female</td>\n",
       "      <td>41</td>\n",
       "      <td>1</td>\n",
       "      <td>83807.86</td>\n",
       "      <td>1</td>\n",
       "      <td>0</td>\n",
       "      <td>1</td>\n",
       "      <td>112542.58</td>\n",
       "      <td>0</td>\n",
       "    </tr>\n",
       "    <tr>\n",
       "      <th>2</th>\n",
       "      <td>3</td>\n",
       "      <td>15619304</td>\n",
       "      <td>Onio</td>\n",
       "      <td>502</td>\n",
       "      <td>France</td>\n",
       "      <td>Female</td>\n",
       "      <td>42</td>\n",
       "      <td>8</td>\n",
       "      <td>159660.80</td>\n",
       "      <td>3</td>\n",
       "      <td>1</td>\n",
       "      <td>0</td>\n",
       "      <td>113931.57</td>\n",
       "      <td>1</td>\n",
       "    </tr>\n",
       "    <tr>\n",
       "      <th>3</th>\n",
       "      <td>4</td>\n",
       "      <td>15701354</td>\n",
       "      <td>Boni</td>\n",
       "      <td>699</td>\n",
       "      <td>France</td>\n",
       "      <td>Female</td>\n",
       "      <td>39</td>\n",
       "      <td>1</td>\n",
       "      <td>0.00</td>\n",
       "      <td>2</td>\n",
       "      <td>0</td>\n",
       "      <td>0</td>\n",
       "      <td>93826.63</td>\n",
       "      <td>0</td>\n",
       "    </tr>\n",
       "    <tr>\n",
       "      <th>4</th>\n",
       "      <td>5</td>\n",
       "      <td>15737888</td>\n",
       "      <td>Mitchell</td>\n",
       "      <td>850</td>\n",
       "      <td>Spain</td>\n",
       "      <td>Female</td>\n",
       "      <td>43</td>\n",
       "      <td>2</td>\n",
       "      <td>125510.82</td>\n",
       "      <td>1</td>\n",
       "      <td>1</td>\n",
       "      <td>1</td>\n",
       "      <td>79084.10</td>\n",
       "      <td>0</td>\n",
       "    </tr>\n",
       "  </tbody>\n",
       "</table>\n",
       "</div>"
      ],
      "text/plain": [
       "   RowNumber  CustomerId   Surname  CreditScore Geography  Gender  Age  \\\n",
       "0          1    15634602  Hargrave          619    France  Female   42   \n",
       "1          2    15647311      Hill          608     Spain  Female   41   \n",
       "2          3    15619304      Onio          502    France  Female   42   \n",
       "3          4    15701354      Boni          699    France  Female   39   \n",
       "4          5    15737888  Mitchell          850     Spain  Female   43   \n",
       "\n",
       "   Tenure    Balance  NumOfProducts  HasCrCard  IsActiveMember  \\\n",
       "0       2       0.00              1          1               1   \n",
       "1       1   83807.86              1          0               1   \n",
       "2       8  159660.80              3          1               0   \n",
       "3       1       0.00              2          0               0   \n",
       "4       2  125510.82              1          1               1   \n",
       "\n",
       "   EstimatedSalary  Exited  \n",
       "0        101348.88       1  \n",
       "1        112542.58       0  \n",
       "2        113931.57       1  \n",
       "3         93826.63       0  \n",
       "4         79084.10       0  "
      ]
     },
     "execution_count": 160,
     "metadata": {},
     "output_type": "execute_result"
    }
   ],
   "source": [
    "dataset=pd.read_csv(\"Churn_Modelling.csv\")\n",
    "dataset.head()"
   ]
  },
  {
   "cell_type": "markdown",
   "metadata": {},
   "source": [
    "# check dataset info,describes,columns,shape,values isnull or not"
   ]
  },
  {
   "cell_type": "code",
   "execution_count": 161,
   "metadata": {},
   "outputs": [
    {
     "name": "stdout",
     "output_type": "stream",
     "text": [
      "<class 'pandas.core.frame.DataFrame'>\n",
      "RangeIndex: 10000 entries, 0 to 9999\n",
      "Data columns (total 14 columns):\n",
      "RowNumber          10000 non-null int64\n",
      "CustomerId         10000 non-null int64\n",
      "Surname            10000 non-null object\n",
      "CreditScore        10000 non-null int64\n",
      "Geography          10000 non-null object\n",
      "Gender             10000 non-null object\n",
      "Age                10000 non-null int64\n",
      "Tenure             10000 non-null int64\n",
      "Balance            10000 non-null float64\n",
      "NumOfProducts      10000 non-null int64\n",
      "HasCrCard          10000 non-null int64\n",
      "IsActiveMember     10000 non-null int64\n",
      "EstimatedSalary    10000 non-null float64\n",
      "Exited             10000 non-null int64\n",
      "dtypes: float64(2), int64(9), object(3)\n",
      "memory usage: 1.1+ MB\n"
     ]
    }
   ],
   "source": [
    "dataset.info()"
   ]
  },
  {
   "cell_type": "code",
   "execution_count": 162,
   "metadata": {},
   "outputs": [
    {
     "data": {
      "text/html": [
       "<div>\n",
       "<style scoped>\n",
       "    .dataframe tbody tr th:only-of-type {\n",
       "        vertical-align: middle;\n",
       "    }\n",
       "\n",
       "    .dataframe tbody tr th {\n",
       "        vertical-align: top;\n",
       "    }\n",
       "\n",
       "    .dataframe thead th {\n",
       "        text-align: right;\n",
       "    }\n",
       "</style>\n",
       "<table border=\"1\" class=\"dataframe\">\n",
       "  <thead>\n",
       "    <tr style=\"text-align: right;\">\n",
       "      <th></th>\n",
       "      <th>count</th>\n",
       "      <th>mean</th>\n",
       "      <th>std</th>\n",
       "      <th>min</th>\n",
       "      <th>25%</th>\n",
       "      <th>50%</th>\n",
       "      <th>75%</th>\n",
       "      <th>max</th>\n",
       "    </tr>\n",
       "  </thead>\n",
       "  <tbody>\n",
       "    <tr>\n",
       "      <th>RowNumber</th>\n",
       "      <td>10000.0</td>\n",
       "      <td>5.000500e+03</td>\n",
       "      <td>2886.895680</td>\n",
       "      <td>1.00</td>\n",
       "      <td>2500.75</td>\n",
       "      <td>5.000500e+03</td>\n",
       "      <td>7.500250e+03</td>\n",
       "      <td>10000.00</td>\n",
       "    </tr>\n",
       "    <tr>\n",
       "      <th>CustomerId</th>\n",
       "      <td>10000.0</td>\n",
       "      <td>1.569094e+07</td>\n",
       "      <td>71936.186123</td>\n",
       "      <td>15565701.00</td>\n",
       "      <td>15628528.25</td>\n",
       "      <td>1.569074e+07</td>\n",
       "      <td>1.575323e+07</td>\n",
       "      <td>15815690.00</td>\n",
       "    </tr>\n",
       "    <tr>\n",
       "      <th>CreditScore</th>\n",
       "      <td>10000.0</td>\n",
       "      <td>6.505288e+02</td>\n",
       "      <td>96.653299</td>\n",
       "      <td>350.00</td>\n",
       "      <td>584.00</td>\n",
       "      <td>6.520000e+02</td>\n",
       "      <td>7.180000e+02</td>\n",
       "      <td>850.00</td>\n",
       "    </tr>\n",
       "    <tr>\n",
       "      <th>Age</th>\n",
       "      <td>10000.0</td>\n",
       "      <td>3.892180e+01</td>\n",
       "      <td>10.487806</td>\n",
       "      <td>18.00</td>\n",
       "      <td>32.00</td>\n",
       "      <td>3.700000e+01</td>\n",
       "      <td>4.400000e+01</td>\n",
       "      <td>92.00</td>\n",
       "    </tr>\n",
       "    <tr>\n",
       "      <th>Tenure</th>\n",
       "      <td>10000.0</td>\n",
       "      <td>5.012800e+00</td>\n",
       "      <td>2.892174</td>\n",
       "      <td>0.00</td>\n",
       "      <td>3.00</td>\n",
       "      <td>5.000000e+00</td>\n",
       "      <td>7.000000e+00</td>\n",
       "      <td>10.00</td>\n",
       "    </tr>\n",
       "    <tr>\n",
       "      <th>Balance</th>\n",
       "      <td>10000.0</td>\n",
       "      <td>7.648589e+04</td>\n",
       "      <td>62397.405202</td>\n",
       "      <td>0.00</td>\n",
       "      <td>0.00</td>\n",
       "      <td>9.719854e+04</td>\n",
       "      <td>1.276442e+05</td>\n",
       "      <td>250898.09</td>\n",
       "    </tr>\n",
       "    <tr>\n",
       "      <th>NumOfProducts</th>\n",
       "      <td>10000.0</td>\n",
       "      <td>1.530200e+00</td>\n",
       "      <td>0.581654</td>\n",
       "      <td>1.00</td>\n",
       "      <td>1.00</td>\n",
       "      <td>1.000000e+00</td>\n",
       "      <td>2.000000e+00</td>\n",
       "      <td>4.00</td>\n",
       "    </tr>\n",
       "    <tr>\n",
       "      <th>HasCrCard</th>\n",
       "      <td>10000.0</td>\n",
       "      <td>7.055000e-01</td>\n",
       "      <td>0.455840</td>\n",
       "      <td>0.00</td>\n",
       "      <td>0.00</td>\n",
       "      <td>1.000000e+00</td>\n",
       "      <td>1.000000e+00</td>\n",
       "      <td>1.00</td>\n",
       "    </tr>\n",
       "    <tr>\n",
       "      <th>IsActiveMember</th>\n",
       "      <td>10000.0</td>\n",
       "      <td>5.151000e-01</td>\n",
       "      <td>0.499797</td>\n",
       "      <td>0.00</td>\n",
       "      <td>0.00</td>\n",
       "      <td>1.000000e+00</td>\n",
       "      <td>1.000000e+00</td>\n",
       "      <td>1.00</td>\n",
       "    </tr>\n",
       "    <tr>\n",
       "      <th>EstimatedSalary</th>\n",
       "      <td>10000.0</td>\n",
       "      <td>1.000902e+05</td>\n",
       "      <td>57510.492818</td>\n",
       "      <td>11.58</td>\n",
       "      <td>51002.11</td>\n",
       "      <td>1.001939e+05</td>\n",
       "      <td>1.493882e+05</td>\n",
       "      <td>199992.48</td>\n",
       "    </tr>\n",
       "    <tr>\n",
       "      <th>Exited</th>\n",
       "      <td>10000.0</td>\n",
       "      <td>2.037000e-01</td>\n",
       "      <td>0.402769</td>\n",
       "      <td>0.00</td>\n",
       "      <td>0.00</td>\n",
       "      <td>0.000000e+00</td>\n",
       "      <td>0.000000e+00</td>\n",
       "      <td>1.00</td>\n",
       "    </tr>\n",
       "  </tbody>\n",
       "</table>\n",
       "</div>"
      ],
      "text/plain": [
       "                   count          mean           std          min  \\\n",
       "RowNumber        10000.0  5.000500e+03   2886.895680         1.00   \n",
       "CustomerId       10000.0  1.569094e+07  71936.186123  15565701.00   \n",
       "CreditScore      10000.0  6.505288e+02     96.653299       350.00   \n",
       "Age              10000.0  3.892180e+01     10.487806        18.00   \n",
       "Tenure           10000.0  5.012800e+00      2.892174         0.00   \n",
       "Balance          10000.0  7.648589e+04  62397.405202         0.00   \n",
       "NumOfProducts    10000.0  1.530200e+00      0.581654         1.00   \n",
       "HasCrCard        10000.0  7.055000e-01      0.455840         0.00   \n",
       "IsActiveMember   10000.0  5.151000e-01      0.499797         0.00   \n",
       "EstimatedSalary  10000.0  1.000902e+05  57510.492818        11.58   \n",
       "Exited           10000.0  2.037000e-01      0.402769         0.00   \n",
       "\n",
       "                         25%           50%           75%          max  \n",
       "RowNumber            2500.75  5.000500e+03  7.500250e+03     10000.00  \n",
       "CustomerId       15628528.25  1.569074e+07  1.575323e+07  15815690.00  \n",
       "CreditScore           584.00  6.520000e+02  7.180000e+02       850.00  \n",
       "Age                    32.00  3.700000e+01  4.400000e+01        92.00  \n",
       "Tenure                  3.00  5.000000e+00  7.000000e+00        10.00  \n",
       "Balance                 0.00  9.719854e+04  1.276442e+05    250898.09  \n",
       "NumOfProducts           1.00  1.000000e+00  2.000000e+00         4.00  \n",
       "HasCrCard               0.00  1.000000e+00  1.000000e+00         1.00  \n",
       "IsActiveMember          0.00  1.000000e+00  1.000000e+00         1.00  \n",
       "EstimatedSalary     51002.11  1.001939e+05  1.493882e+05    199992.48  \n",
       "Exited                  0.00  0.000000e+00  0.000000e+00         1.00  "
      ]
     },
     "execution_count": 162,
     "metadata": {},
     "output_type": "execute_result"
    }
   ],
   "source": [
    "dataset.describe().T"
   ]
  },
  {
   "cell_type": "code",
   "execution_count": 163,
   "metadata": {},
   "outputs": [
    {
     "data": {
      "text/plain": [
       "(10000, 14)"
      ]
     },
     "execution_count": 163,
     "metadata": {},
     "output_type": "execute_result"
    }
   ],
   "source": [
    "dataset.shape"
   ]
  },
  {
   "cell_type": "code",
   "execution_count": 164,
   "metadata": {},
   "outputs": [
    {
     "data": {
      "text/plain": [
       "Index(['RowNumber', 'CustomerId', 'Surname', 'CreditScore', 'Geography',\n",
       "       'Gender', 'Age', 'Tenure', 'Balance', 'NumOfProducts', 'HasCrCard',\n",
       "       'IsActiveMember', 'EstimatedSalary', 'Exited'],\n",
       "      dtype='object')"
      ]
     },
     "execution_count": 164,
     "metadata": {},
     "output_type": "execute_result"
    }
   ],
   "source": [
    "dataset.columns"
   ]
  },
  {
   "cell_type": "code",
   "execution_count": 165,
   "metadata": {},
   "outputs": [
    {
     "data": {
      "text/plain": [
       "RowNumber          0\n",
       "CustomerId         0\n",
       "Surname            0\n",
       "CreditScore        0\n",
       "Geography          0\n",
       "Gender             0\n",
       "Age                0\n",
       "Tenure             0\n",
       "Balance            0\n",
       "NumOfProducts      0\n",
       "HasCrCard          0\n",
       "IsActiveMember     0\n",
       "EstimatedSalary    0\n",
       "Exited             0\n",
       "dtype: int64"
      ]
     },
     "execution_count": 165,
     "metadata": {},
     "output_type": "execute_result"
    }
   ],
   "source": [
    "dataset.isnull().sum()"
   ]
  },
  {
   "cell_type": "markdown",
   "metadata": {},
   "source": [
    "# Spliting the dataset into training and test dataset"
   ]
  },
  {
   "cell_type": "code",
   "execution_count": 166,
   "metadata": {},
   "outputs": [],
   "source": [
    "train,test = train_test_split(dataset,test_size=0.2)"
   ]
  },
  {
   "cell_type": "code",
   "execution_count": 167,
   "metadata": {},
   "outputs": [],
   "source": [
    "# saving test data into csv file\n",
    "test.to_csv('test_file.csv',index=False,encoding='utf-8')"
   ]
  },
  {
   "cell_type": "code",
   "execution_count": 168,
   "metadata": {},
   "outputs": [],
   "source": [
    "# split train data into train and cross validation dataset\n",
    "train_data,cross_data = train_test_split(train,test_size=0.2,random_state=0)"
   ]
  },
  {
   "cell_type": "code",
   "execution_count": 169,
   "metadata": {},
   "outputs": [
    {
     "data": {
      "text/plain": [
       "((6400, 14), (1600, 14))"
      ]
     },
     "execution_count": 169,
     "metadata": {},
     "output_type": "execute_result"
    }
   ],
   "source": [
    "train_data.shape,cross_data.shape"
   ]
  },
  {
   "cell_type": "markdown",
   "metadata": {},
   "source": [
    "# Separte dataset into Features and Labels"
   ]
  },
  {
   "cell_type": "code",
   "execution_count": 170,
   "metadata": {},
   "outputs": [
    {
     "name": "stdout",
     "output_type": "stream",
     "text": [
      "(6400, 10)\n",
      "(6400,)\n"
     ]
    }
   ],
   "source": [
    "x_train=train_data.iloc[:,3:13].values\n",
    "print(x_train.shape)\n",
    "y_train=train_data.iloc[:,13].values\n",
    "print(y_train.shape)"
   ]
  },
  {
   "cell_type": "markdown",
   "metadata": {},
   "source": [
    "# Feature scaling"
   ]
  },
  {
   "cell_type": "code",
   "execution_count": 171,
   "metadata": {},
   "outputs": [
    {
     "name": "stdout",
     "output_type": "stream",
     "text": [
      "(6400, 10)\n",
      "(6400, 10)\n",
      "(6400, 12)\n"
     ]
    },
    {
     "name": "stderr",
     "output_type": "stream",
     "text": [
      "/home/admin238/anaconda3/lib/python3.7/site-packages/sklearn/preprocessing/_encoders.py:371: FutureWarning: The handling of integer data will change in version 0.22. Currently, the categories are determined based on the range [0, max(values)], while in the future they will be determined based on the unique values.\n",
      "If you want the future behaviour and silence this warning, you can specify \"categories='auto'\".\n",
      "In case you used a LabelEncoder before this OneHotEncoder to convert the categories to integers, then you can now use the OneHotEncoder directly.\n",
      "  warnings.warn(msg, FutureWarning)\n",
      "/home/admin238/anaconda3/lib/python3.7/site-packages/sklearn/preprocessing/_encoders.py:392: DeprecationWarning: The 'categorical_features' keyword is deprecated in version 0.20 and will be removed in 0.22. You can use the ColumnTransformer instead.\n",
      "  \"use the ColumnTransformer instead.\", DeprecationWarning)\n"
     ]
    }
   ],
   "source": [
    "def categorial_encoding(x):\n",
    "    from sklearn.preprocessing import LabelEncoder,OneHotEncoder\n",
    "    labelencoder_X_1=LabelEncoder()\n",
    "    x[:,1]=labelencoder_X_1.fit_transform(x[:,1])\n",
    "    print(x.shape)\n",
    "    labelencoder_X_2=LabelEncoder()\n",
    "    x[:,2]=labelencoder_X_2.fit_transform(x[:,2])\n",
    "    print(x.shape)\n",
    "    onehotencoder=OneHotEncoder(categorical_features=[1])\n",
    "    x=onehotencoder.fit_transform(x).toarray()\n",
    "    print(x.shape)\n",
    "    x=x[:,1:]\n",
    "    return x\n",
    "\n",
    "x_train=categorial_encoding(x_train)"
   ]
  },
  {
   "cell_type": "code",
   "execution_count": 172,
   "metadata": {},
   "outputs": [],
   "source": [
    "# seperating features and labels from dataset of cross validation dataset\n",
    "# Credit Score through Estimated Salary\n",
    "x_cv = cross_data.iloc[:,3:13].values\n",
    "# Exited\n",
    "y_cv = cross_data.iloc[:,13].values"
   ]
  },
  {
   "cell_type": "code",
   "execution_count": 173,
   "metadata": {},
   "outputs": [
    {
     "name": "stdout",
     "output_type": "stream",
     "text": [
      "(1600, 10)\n",
      "(1600, 10)\n",
      "(1600, 12)\n"
     ]
    },
    {
     "name": "stderr",
     "output_type": "stream",
     "text": [
      "/home/admin238/anaconda3/lib/python3.7/site-packages/sklearn/preprocessing/_encoders.py:371: FutureWarning: The handling of integer data will change in version 0.22. Currently, the categories are determined based on the range [0, max(values)], while in the future they will be determined based on the unique values.\n",
      "If you want the future behaviour and silence this warning, you can specify \"categories='auto'\".\n",
      "In case you used a LabelEncoder before this OneHotEncoder to convert the categories to integers, then you can now use the OneHotEncoder directly.\n",
      "  warnings.warn(msg, FutureWarning)\n",
      "/home/admin238/anaconda3/lib/python3.7/site-packages/sklearn/preprocessing/_encoders.py:392: DeprecationWarning: The 'categorical_features' keyword is deprecated in version 0.20 and will be removed in 0.22. You can use the ColumnTransformer instead.\n",
      "  \"use the ColumnTransformer instead.\", DeprecationWarning)\n"
     ]
    }
   ],
   "source": [
    "x_cv=categorial_encoding(x_cv)"
   ]
  },
  {
   "cell_type": "code",
   "execution_count": 174,
   "metadata": {},
   "outputs": [],
   "source": [
    "from sklearn.preprocessing import StandardScaler\n",
    "sc=StandardScaler()\n",
    "x_train=sc.fit_transform(x_train)\n",
    "x_cv=sc.transform(x_cv)"
   ]
  },
  {
   "cell_type": "code",
   "execution_count": 182,
   "metadata": {},
   "outputs": [
    {
     "data": {
      "text/plain": [
       "((6400, 11), (6400,), (1600, 11), (1600,))"
      ]
     },
     "execution_count": 182,
     "metadata": {},
     "output_type": "execute_result"
    }
   ],
   "source": [
    "x_train.shape,y_train.shape,x_cv.shape,y_cv.shape\n"
   ]
  },
  {
   "cell_type": "markdown",
   "metadata": {},
   "source": [
    "# Importing the keras libaries and package"
   ]
  },
  {
   "cell_type": "code",
   "execution_count": 183,
   "metadata": {},
   "outputs": [],
   "source": [
    "#this libaries used for initialize neural network\n",
    "import keras\n",
    "from keras.models import Sequential"
   ]
  },
  {
   "cell_type": "code",
   "execution_count": 187,
   "metadata": {},
   "outputs": [],
   "source": [
    "#used for create layers in Artificial neural network\n",
    "from keras.layers import Dense\n"
   ]
  },
  {
   "cell_type": "markdown",
   "metadata": {},
   "source": [
    "# Initializing the ANN\n"
   ]
  },
  {
   "cell_type": "code",
   "execution_count": 188,
   "metadata": {},
   "outputs": [],
   "source": [
    "#Create Sequential model with Dense layers, using the add method\n",
    "classifier=Sequential()"
   ]
  },
  {
   "cell_type": "markdown",
   "metadata": {},
   "source": [
    "# Adding the input layer and first hidden layer"
   ]
  },
  {
   "cell_type": "code",
   "execution_count": 189,
   "metadata": {},
   "outputs": [],
   "source": [
    "(#simply the no.of nodes add in this hidden layer.dense function is no of layers \n",
    "# add in the hidden layer using add()function)\n",
    "#     Dense implements the operation:\n",
    "#        output = activation(dot(input, kernel) + bias)\n",
    "#Units are the dimensionality of the output space for the layer,\n",
    "#     which equals the number of hidden units\n",
    "#Activation and loss functions may be specified by strings or classes\n",
    "classifier.add(Dense(activation='relu',input_dim=11,units=6, kernel_initializer='uniform'))"
   ]
  },
  {
   "cell_type": "markdown",
   "metadata": {},
   "source": [
    "# Adding second hidden layers"
   ]
  },
  {
   "cell_type": "code",
   "execution_count": 191,
   "metadata": {},
   "outputs": [],
   "source": [
    "classifier.add(Dense(activation='relu',units=6, kernel_initializer='uniform'))"
   ]
  },
  {
   "cell_type": "markdown",
   "metadata": {},
   "source": [
    "# Adding the output layers"
   ]
  },
  {
   "cell_type": "code",
   "execution_count": 195,
   "metadata": {},
   "outputs": [],
   "source": [
    "classifier.add(Dense(units=1,activation='sigmoid',kernel_initializer='uniform'))"
   ]
  },
  {
   "cell_type": "markdown",
   "metadata": {},
   "source": [
    "# Compling the ANN"
   ]
  },
  {
   "cell_type": "code",
   "execution_count": 209,
   "metadata": {},
   "outputs": [],
   "source": [
    "#The compile method configures the model’s learning process\n",
    "classifier.compile(optimizer='adam',loss='binary_crossentropy',metrics=['accuracy'])"
   ]
  },
  {
   "cell_type": "markdown",
   "metadata": {},
   "source": [
    "# fitting the ANN to the training set"
   ]
  },
  {
   "cell_type": "code",
   "execution_count": 211,
   "metadata": {},
   "outputs": [
    {
     "name": "stdout",
     "output_type": "stream",
     "text": [
      "Epoch 1/100\n",
      "1910/6400 [=======>......................] - ETA: 0s - loss: 0.3864 - acc: 0.8382"
     ]
    },
    {
     "name": "stderr",
     "output_type": "stream",
     "text": [
      "/home/admin238/anaconda3/lib/python3.7/site-packages/ipykernel_launcher.py:1: UserWarning: The `nb_epoch` argument in `fit` has been renamed `epochs`.\n",
      "  \"\"\"Entry point for launching an IPython kernel.\n"
     ]
    },
    {
     "name": "stdout",
     "output_type": "stream",
     "text": [
      "6400/6400 [==============================] - 0s 76us/step - loss: 0.4004 - acc: 0.8334\n",
      "Epoch 2/100\n",
      "6400/6400 [==============================] - 0s 71us/step - loss: 0.4004 - acc: 0.8342\n",
      "Epoch 3/100\n",
      "6400/6400 [==============================] - 0s 73us/step - loss: 0.3998 - acc: 0.8348\n",
      "Epoch 4/100\n",
      "6400/6400 [==============================] - 0s 73us/step - loss: 0.3996 - acc: 0.8359\n",
      "Epoch 5/100\n",
      "6400/6400 [==============================] - 1s 85us/step - loss: 0.3995 - acc: 0.8359\n",
      "Epoch 6/100\n",
      "6400/6400 [==============================] - 0s 74us/step - loss: 0.3991 - acc: 0.8355\n",
      "Epoch 7/100\n",
      "6400/6400 [==============================] - 1s 81us/step - loss: 0.3991 - acc: 0.8339\n",
      "Epoch 8/100\n",
      "6400/6400 [==============================] - 0s 76us/step - loss: 0.3990 - acc: 0.8337\n",
      "Epoch 9/100\n",
      "6400/6400 [==============================] - 0s 74us/step - loss: 0.3986 - acc: 0.8347\n",
      "Epoch 10/100\n",
      "6400/6400 [==============================] - 0s 76us/step - loss: 0.3981 - acc: 0.8341\n",
      "Epoch 11/100\n",
      "6400/6400 [==============================] - 0s 76us/step - loss: 0.3983 - acc: 0.8339\n",
      "Epoch 12/100\n",
      "6400/6400 [==============================] - 0s 74us/step - loss: 0.3977 - acc: 0.8345\n",
      "Epoch 13/100\n",
      "6400/6400 [==============================] - 0s 75us/step - loss: 0.3976 - acc: 0.8362\n",
      "Epoch 14/100\n",
      "6400/6400 [==============================] - 0s 74us/step - loss: 0.3976 - acc: 0.8350\n",
      "Epoch 15/100\n",
      "6400/6400 [==============================] - 0s 76us/step - loss: 0.3970 - acc: 0.8362\n",
      "Epoch 16/100\n",
      "6400/6400 [==============================] - 0s 74us/step - loss: 0.3970 - acc: 0.8350\n",
      "Epoch 17/100\n",
      "6400/6400 [==============================] - 0s 74us/step - loss: 0.3967 - acc: 0.8352\n",
      "Epoch 18/100\n",
      "6400/6400 [==============================] - 0s 75us/step - loss: 0.3966 - acc: 0.8336\n",
      "Epoch 19/100\n",
      "6400/6400 [==============================] - 0s 73us/step - loss: 0.3967 - acc: 0.8361\n",
      "Epoch 20/100\n",
      "6400/6400 [==============================] - 0s 73us/step - loss: 0.3966 - acc: 0.8358\n",
      "Epoch 21/100\n",
      "6400/6400 [==============================] - 0s 74us/step - loss: 0.3964 - acc: 0.8350\n",
      "Epoch 22/100\n",
      "6400/6400 [==============================] - 0s 75us/step - loss: 0.3963 - acc: 0.8350\n",
      "Epoch 23/100\n",
      "6400/6400 [==============================] - 1s 80us/step - loss: 0.3961 - acc: 0.8361\n",
      "Epoch 24/100\n",
      "6400/6400 [==============================] - 0s 77us/step - loss: 0.3960 - acc: 0.8345\n",
      "Epoch 25/100\n",
      "6400/6400 [==============================] - 0s 77us/step - loss: 0.3960 - acc: 0.8347\n",
      "Epoch 26/100\n",
      "6400/6400 [==============================] - 0s 76us/step - loss: 0.3959 - acc: 0.8367\n",
      "Epoch 27/100\n",
      "6400/6400 [==============================] - 0s 75us/step - loss: 0.3955 - acc: 0.8359\n",
      "Epoch 28/100\n",
      "6400/6400 [==============================] - 0s 75us/step - loss: 0.3957 - acc: 0.8359\n",
      "Epoch 29/100\n",
      "6400/6400 [==============================] - 0s 76us/step - loss: 0.3958 - acc: 0.8361\n",
      "Epoch 30/100\n",
      "6400/6400 [==============================] - 0s 76us/step - loss: 0.3948 - acc: 0.8348\n",
      "Epoch 31/100\n",
      "6400/6400 [==============================] - 0s 74us/step - loss: 0.3956 - acc: 0.8361\n",
      "Epoch 32/100\n",
      "6400/6400 [==============================] - 0s 74us/step - loss: 0.3957 - acc: 0.8358\n",
      "Epoch 33/100\n",
      "6400/6400 [==============================] - 0s 76us/step - loss: 0.3953 - acc: 0.8356\n",
      "Epoch 34/100\n",
      "6400/6400 [==============================] - 0s 74us/step - loss: 0.3951 - acc: 0.8370\n",
      "Epoch 35/100\n",
      "6400/6400 [==============================] - 1s 81us/step - loss: 0.3951 - acc: 0.8348\n",
      "Epoch 36/100\n",
      "6400/6400 [==============================] - 1s 80us/step - loss: 0.3953 - acc: 0.8358\n",
      "Epoch 37/100\n",
      "6400/6400 [==============================] - 1s 81us/step - loss: 0.3947 - acc: 0.8362\n",
      "Epoch 38/100\n",
      "6400/6400 [==============================] - 1s 88us/step - loss: 0.3951 - acc: 0.8361\n",
      "Epoch 39/100\n",
      "6400/6400 [==============================] - 1s 78us/step - loss: 0.3953 - acc: 0.8353\n",
      "Epoch 40/100\n",
      "6400/6400 [==============================] - 0s 75us/step - loss: 0.3947 - acc: 0.8350\n",
      "Epoch 41/100\n",
      "6400/6400 [==============================] - 0s 78us/step - loss: 0.3949 - acc: 0.8359\n",
      "Epoch 42/100\n",
      "6400/6400 [==============================] - 0s 75us/step - loss: 0.3948 - acc: 0.8366\n",
      "Epoch 43/100\n",
      "6400/6400 [==============================] - 0s 76us/step - loss: 0.3944 - acc: 0.8369\n",
      "Epoch 44/100\n",
      "6400/6400 [==============================] - 0s 77us/step - loss: 0.3946 - acc: 0.8350\n",
      "Epoch 45/100\n",
      "6400/6400 [==============================] - 1s 85us/step - loss: 0.3950 - acc: 0.8375\n",
      "Epoch 46/100\n",
      "6400/6400 [==============================] - 1s 88us/step - loss: 0.3946 - acc: 0.8355\n",
      "Epoch 47/100\n",
      "6400/6400 [==============================] - 0s 77us/step - loss: 0.3943 - acc: 0.8367\n",
      "Epoch 48/100\n",
      "6400/6400 [==============================] - 0s 75us/step - loss: 0.3943 - acc: 0.8373\n",
      "Epoch 49/100\n",
      "6400/6400 [==============================] - 0s 75us/step - loss: 0.3946 - acc: 0.8366\n",
      "Epoch 50/100\n",
      "6400/6400 [==============================] - 0s 74us/step - loss: 0.3943 - acc: 0.8347\n",
      "Epoch 51/100\n",
      "6400/6400 [==============================] - 1s 84us/step - loss: 0.3941 - acc: 0.8353\n",
      "Epoch 52/100\n",
      "6400/6400 [==============================] - 0s 77us/step - loss: 0.3943 - acc: 0.8380\n",
      "Epoch 53/100\n",
      "6400/6400 [==============================] - 1s 85us/step - loss: 0.3941 - acc: 0.8359\n",
      "Epoch 54/100\n",
      "6400/6400 [==============================] - 1s 86us/step - loss: 0.3940 - acc: 0.8355\n",
      "Epoch 55/100\n",
      "6400/6400 [==============================] - 0s 77us/step - loss: 0.3941 - acc: 0.8350\n",
      "Epoch 56/100\n",
      "6400/6400 [==============================] - 1s 81us/step - loss: 0.3943 - acc: 0.8342\n",
      "Epoch 57/100\n",
      "6400/6400 [==============================] - 1s 83us/step - loss: 0.3943 - acc: 0.8342\n",
      "Epoch 58/100\n",
      "6400/6400 [==============================] - 1s 90us/step - loss: 0.3943 - acc: 0.8367\n",
      "Epoch 59/100\n",
      "6400/6400 [==============================] - 1s 90us/step - loss: 0.3938 - acc: 0.8364\n",
      "Epoch 60/100\n",
      "6400/6400 [==============================] - 1s 78us/step - loss: 0.3940 - acc: 0.8353\n",
      "Epoch 61/100\n",
      "6400/6400 [==============================] - 1s 85us/step - loss: 0.3939 - acc: 0.8366\n",
      "Epoch 62/100\n",
      "6400/6400 [==============================] - 0s 77us/step - loss: 0.3934 - acc: 0.8358\n",
      "Epoch 63/100\n",
      "6400/6400 [==============================] - 0s 77us/step - loss: 0.3940 - acc: 0.8358\n",
      "Epoch 64/100\n",
      "6400/6400 [==============================] - 1s 84us/step - loss: 0.3936 - acc: 0.8364\n",
      "Epoch 65/100\n",
      "6400/6400 [==============================] - 1s 88us/step - loss: 0.3940 - acc: 0.8352\n",
      "Epoch 66/100\n",
      "6400/6400 [==============================] - 1s 90us/step - loss: 0.3939 - acc: 0.8372\n",
      "Epoch 67/100\n",
      "6400/6400 [==============================] - 0s 76us/step - loss: 0.3937 - acc: 0.8345\n",
      "Epoch 68/100\n",
      "6400/6400 [==============================] - 1s 86us/step - loss: 0.3937 - acc: 0.8364\n",
      "Epoch 69/100\n",
      "6400/6400 [==============================] - 1s 79us/step - loss: 0.3941 - acc: 0.8370\n",
      "Epoch 70/100\n",
      "6400/6400 [==============================] - 1s 89us/step - loss: 0.3938 - acc: 0.8372\n",
      "Epoch 71/100\n",
      "6400/6400 [==============================] - 1s 86us/step - loss: 0.3939 - acc: 0.8345\n",
      "Epoch 72/100\n",
      "6400/6400 [==============================] - 1s 79us/step - loss: 0.3937 - acc: 0.8366\n",
      "Epoch 73/100\n",
      "6400/6400 [==============================] - 1s 84us/step - loss: 0.3936 - acc: 0.8352\n",
      "Epoch 74/100\n",
      "6400/6400 [==============================] - 1s 79us/step - loss: 0.3934 - acc: 0.8361\n",
      "Epoch 75/100\n",
      "6400/6400 [==============================] - 0s 77us/step - loss: 0.3934 - acc: 0.8337\n",
      "Epoch 76/100\n",
      "6400/6400 [==============================] - 0s 77us/step - loss: 0.3933 - acc: 0.8358\n",
      "Epoch 77/100\n",
      "6400/6400 [==============================] - 0s 77us/step - loss: 0.3936 - acc: 0.8352\n",
      "Epoch 78/100\n",
      "6400/6400 [==============================] - 0s 77us/step - loss: 0.3936 - acc: 0.8358\n",
      "Epoch 79/100\n",
      "6400/6400 [==============================] - 0s 76us/step - loss: 0.3932 - acc: 0.8358\n",
      "Epoch 80/100\n",
      "6400/6400 [==============================] - 0s 75us/step - loss: 0.3934 - acc: 0.8358\n",
      "Epoch 81/100\n",
      "6400/6400 [==============================] - 0s 78us/step - loss: 0.3931 - acc: 0.8366: 0s - loss: 0.4016 - acc: 0.\n",
      "Epoch 82/100\n",
      "6400/6400 [==============================] - 0s 76us/step - loss: 0.3929 - acc: 0.8358\n",
      "Epoch 83/100\n",
      "6400/6400 [==============================] - 1s 79us/step - loss: 0.3935 - acc: 0.8352\n",
      "Epoch 84/100\n",
      "6400/6400 [==============================] - 0s 75us/step - loss: 0.3931 - acc: 0.8375\n",
      "Epoch 85/100\n",
      "6400/6400 [==============================] - 0s 74us/step - loss: 0.3933 - acc: 0.8373\n",
      "Epoch 86/100\n",
      "6400/6400 [==============================] - 0s 75us/step - loss: 0.3932 - acc: 0.8369\n",
      "Epoch 87/100\n",
      "6400/6400 [==============================] - 0s 76us/step - loss: 0.3928 - acc: 0.8361\n",
      "Epoch 88/100\n",
      "6400/6400 [==============================] - 0s 76us/step - loss: 0.3928 - acc: 0.8375\n",
      "Epoch 89/100\n",
      "6400/6400 [==============================] - 0s 76us/step - loss: 0.3931 - acc: 0.8337\n",
      "Epoch 90/100\n",
      "6400/6400 [==============================] - 0s 77us/step - loss: 0.3925 - acc: 0.8380\n",
      "Epoch 91/100\n",
      "6400/6400 [==============================] - 0s 75us/step - loss: 0.3927 - acc: 0.8358\n",
      "Epoch 92/100\n",
      "6400/6400 [==============================] - 0s 76us/step - loss: 0.3929 - acc: 0.8381\n",
      "Epoch 93/100\n",
      "6400/6400 [==============================] - 1s 78us/step - loss: 0.3926 - acc: 0.8344\n",
      "Epoch 94/100\n",
      "6400/6400 [==============================] - 1s 79us/step - loss: 0.3931 - acc: 0.8364\n",
      "Epoch 95/100\n",
      "6400/6400 [==============================] - 0s 78us/step - loss: 0.3929 - acc: 0.8372\n",
      "Epoch 96/100\n",
      "6400/6400 [==============================] - 0s 78us/step - loss: 0.3925 - acc: 0.8370\n",
      "Epoch 97/100\n",
      "6400/6400 [==============================] - 0s 76us/step - loss: 0.3926 - acc: 0.8361\n",
      "Epoch 98/100\n",
      "6400/6400 [==============================] - 0s 76us/step - loss: 0.3930 - acc: 0.8364\n",
      "Epoch 99/100\n",
      "6400/6400 [==============================] - 0s 76us/step - loss: 0.3926 - acc: 0.8359\n",
      "Epoch 100/100\n",
      "6400/6400 [==============================] - 0s 77us/step - loss: 0.3924 - acc: 0.8364\n"
     ]
    },
    {
     "data": {
      "text/plain": [
       "<keras.callbacks.History at 0x7fba7c136048>"
      ]
     },
     "execution_count": 211,
     "metadata": {},
     "output_type": "execute_result"
    }
   ],
   "source": [
    "#The fit method does the training in batches\n",
    "# x_train and y_train are Numpy arrays --just like in the Scikit-Learn API.\n",
    "classifier.fit(x_train,y_train,batch_size=10,nb_epoch=100)"
   ]
  },
  {
   "cell_type": "markdown",
   "metadata": {},
   "source": [
    "# Predict the test set result"
   ]
  },
  {
   "cell_type": "code",
   "execution_count": 199,
   "metadata": {},
   "outputs": [
    {
     "name": "stdout",
     "output_type": "stream",
     "text": [
      "[[0.08547691]\n",
      " [0.08547577]\n",
      " [0.09161514]\n",
      " ...\n",
      " [0.08547816]\n",
      " [0.08592558]\n",
      " [0.08872443]]\n",
      "[[False]\n",
      " [False]\n",
      " [False]\n",
      " ...\n",
      " [False]\n",
      " [False]\n",
      " [False]]\n"
     ]
    }
   ],
   "source": [
    "y_pred=classifier.predict(x_cv)\n",
    "print(y_pred)\n",
    "y_pred=(y_pred > 0.5)\n",
    "print(y_pred)"
   ]
  },
  {
   "cell_type": "markdown",
   "metadata": {},
   "source": [
    "# Making the Confusion matrix"
   ]
  },
  {
   "cell_type": "code",
   "execution_count": 203,
   "metadata": {},
   "outputs": [
    {
     "data": {
      "text/plain": [
       "array([[1201,   65],\n",
       "       [ 217,  117]])"
      ]
     },
     "execution_count": 203,
     "metadata": {},
     "output_type": "execute_result"
    }
   ],
   "source": [
    "from sklearn.metrics import confusion_matrix\n",
    "cm=confusion_matrix(y_cv,y_pred)\n",
    "cm"
   ]
  },
  {
   "cell_type": "code",
   "execution_count": 204,
   "metadata": {},
   "outputs": [
    {
     "name": "stdout",
     "output_type": "stream",
     "text": [
      "82.375 % of testing data was classified correctly\n"
     ]
    }
   ],
   "source": [
    "print (((cm[0][0]+cm[1][1])*100)/(cm[0][0]+cm[1][1]+cm[0][1]+cm[1][0]), '% of testing data was classified correctly')"
   ]
  },
  {
   "cell_type": "code",
   "execution_count": 207,
   "metadata": {},
   "outputs": [
    {
     "name": "stdout",
     "output_type": "stream",
     "text": [
      "82.375 % of cross validation data was classified correctly\n"
     ]
    }
   ],
   "source": [
    "# calculating accuracy\n",
    "from sklearn.metrics import accuracy_score\n",
    "print (accuracy_score(y_cv,y_pred)*100,'% of cross validation data was classified correctly')"
   ]
  },
  {
   "cell_type": "code",
   "execution_count": 208,
   "metadata": {},
   "outputs": [],
   "source": [
    "# save model in pickle file\n",
    "import pickle\n",
    "fileobj=open('save_model.pkl','wb')\n",
    "pickle.dump(classifier,fileobj)\n",
    "pickle.dump(sc,fileobj)\n",
    "fileobj.close()"
   ]
  },
  {
   "cell_type": "code",
   "execution_count": null,
   "metadata": {},
   "outputs": [],
   "source": []
  }
 ],
 "metadata": {
  "kernelspec": {
   "display_name": "Python 3",
   "language": "python",
   "name": "python3"
  },
  "language_info": {
   "codemirror_mode": {
    "name": "ipython",
    "version": 3
   },
   "file_extension": ".py",
   "mimetype": "text/x-python",
   "name": "python",
   "nbconvert_exporter": "python",
   "pygments_lexer": "ipython3",
   "version": "3.6.7"
  }
 },
 "nbformat": 4,
 "nbformat_minor": 2
}
