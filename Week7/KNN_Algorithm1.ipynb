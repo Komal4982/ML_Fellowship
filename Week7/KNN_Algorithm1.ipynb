{
 "cells": [
  {
   "cell_type": "code",
   "execution_count": 1,
   "metadata": {
    "ExecuteTime": {
     "end_time": "2019-05-30T13:28:13.614982Z",
     "start_time": "2019-05-30T13:28:12.983991Z"
    }
   },
   "outputs": [],
   "source": [
    "#import libaries\n",
    "import pandas as pd\n",
    "import numpy as np\n",
    "import seaborn as sb\n",
    "import math \n",
    "import operator\n"
   ]
  },
  {
   "cell_type": "code",
   "execution_count": 2,
   "metadata": {
    "ExecuteTime": {
     "end_time": "2019-05-30T13:28:13.635883Z",
     "start_time": "2019-05-30T13:28:13.617017Z"
    }
   },
   "outputs": [],
   "source": [
    "#read dataset\n",
    "dataset=pd.read_csv(\"bank.csv\",delimiter=';')"
   ]
  },
  {
   "cell_type": "code",
   "execution_count": 3,
   "metadata": {
    "ExecuteTime": {
     "end_time": "2019-05-30T13:28:13.660184Z",
     "start_time": "2019-05-30T13:28:13.637737Z"
    }
   },
   "outputs": [
    {
     "data": {
      "text/html": [
       "<div>\n",
       "<style scoped>\n",
       "    .dataframe tbody tr th:only-of-type {\n",
       "        vertical-align: middle;\n",
       "    }\n",
       "\n",
       "    .dataframe tbody tr th {\n",
       "        vertical-align: top;\n",
       "    }\n",
       "\n",
       "    .dataframe thead th {\n",
       "        text-align: right;\n",
       "    }\n",
       "</style>\n",
       "<table border=\"1\" class=\"dataframe\">\n",
       "  <thead>\n",
       "    <tr style=\"text-align: right;\">\n",
       "      <th></th>\n",
       "      <th>age</th>\n",
       "      <th>job</th>\n",
       "      <th>marital</th>\n",
       "      <th>education</th>\n",
       "      <th>default</th>\n",
       "      <th>balance</th>\n",
       "      <th>housing</th>\n",
       "      <th>loan</th>\n",
       "      <th>contact</th>\n",
       "      <th>day</th>\n",
       "      <th>month</th>\n",
       "      <th>duration</th>\n",
       "      <th>campaign</th>\n",
       "      <th>pdays</th>\n",
       "      <th>previous</th>\n",
       "      <th>poutcome</th>\n",
       "      <th>y</th>\n",
       "    </tr>\n",
       "  </thead>\n",
       "  <tbody>\n",
       "    <tr>\n",
       "      <th>0</th>\n",
       "      <td>30</td>\n",
       "      <td>unemployed</td>\n",
       "      <td>married</td>\n",
       "      <td>primary</td>\n",
       "      <td>no</td>\n",
       "      <td>1787</td>\n",
       "      <td>no</td>\n",
       "      <td>no</td>\n",
       "      <td>cellular</td>\n",
       "      <td>19</td>\n",
       "      <td>oct</td>\n",
       "      <td>79</td>\n",
       "      <td>1</td>\n",
       "      <td>-1</td>\n",
       "      <td>0</td>\n",
       "      <td>unknown</td>\n",
       "      <td>no</td>\n",
       "    </tr>\n",
       "    <tr>\n",
       "      <th>1</th>\n",
       "      <td>33</td>\n",
       "      <td>services</td>\n",
       "      <td>married</td>\n",
       "      <td>secondary</td>\n",
       "      <td>no</td>\n",
       "      <td>4789</td>\n",
       "      <td>yes</td>\n",
       "      <td>yes</td>\n",
       "      <td>cellular</td>\n",
       "      <td>11</td>\n",
       "      <td>may</td>\n",
       "      <td>220</td>\n",
       "      <td>1</td>\n",
       "      <td>339</td>\n",
       "      <td>4</td>\n",
       "      <td>failure</td>\n",
       "      <td>no</td>\n",
       "    </tr>\n",
       "    <tr>\n",
       "      <th>2</th>\n",
       "      <td>35</td>\n",
       "      <td>management</td>\n",
       "      <td>single</td>\n",
       "      <td>tertiary</td>\n",
       "      <td>no</td>\n",
       "      <td>1350</td>\n",
       "      <td>yes</td>\n",
       "      <td>no</td>\n",
       "      <td>cellular</td>\n",
       "      <td>16</td>\n",
       "      <td>apr</td>\n",
       "      <td>185</td>\n",
       "      <td>1</td>\n",
       "      <td>330</td>\n",
       "      <td>1</td>\n",
       "      <td>failure</td>\n",
       "      <td>no</td>\n",
       "    </tr>\n",
       "    <tr>\n",
       "      <th>3</th>\n",
       "      <td>30</td>\n",
       "      <td>management</td>\n",
       "      <td>married</td>\n",
       "      <td>tertiary</td>\n",
       "      <td>no</td>\n",
       "      <td>1476</td>\n",
       "      <td>yes</td>\n",
       "      <td>yes</td>\n",
       "      <td>unknown</td>\n",
       "      <td>3</td>\n",
       "      <td>jun</td>\n",
       "      <td>199</td>\n",
       "      <td>4</td>\n",
       "      <td>-1</td>\n",
       "      <td>0</td>\n",
       "      <td>unknown</td>\n",
       "      <td>no</td>\n",
       "    </tr>\n",
       "    <tr>\n",
       "      <th>4</th>\n",
       "      <td>59</td>\n",
       "      <td>blue-collar</td>\n",
       "      <td>married</td>\n",
       "      <td>secondary</td>\n",
       "      <td>no</td>\n",
       "      <td>0</td>\n",
       "      <td>yes</td>\n",
       "      <td>no</td>\n",
       "      <td>unknown</td>\n",
       "      <td>5</td>\n",
       "      <td>may</td>\n",
       "      <td>226</td>\n",
       "      <td>1</td>\n",
       "      <td>-1</td>\n",
       "      <td>0</td>\n",
       "      <td>unknown</td>\n",
       "      <td>no</td>\n",
       "    </tr>\n",
       "  </tbody>\n",
       "</table>\n",
       "</div>"
      ],
      "text/plain": [
       "   age          job  marital  education default  balance housing loan  \\\n",
       "0   30   unemployed  married    primary      no     1787      no   no   \n",
       "1   33     services  married  secondary      no     4789     yes  yes   \n",
       "2   35   management   single   tertiary      no     1350     yes   no   \n",
       "3   30   management  married   tertiary      no     1476     yes  yes   \n",
       "4   59  blue-collar  married  secondary      no        0     yes   no   \n",
       "\n",
       "    contact  day month  duration  campaign  pdays  previous poutcome   y  \n",
       "0  cellular   19   oct        79         1     -1         0  unknown  no  \n",
       "1  cellular   11   may       220         1    339         4  failure  no  \n",
       "2  cellular   16   apr       185         1    330         1  failure  no  \n",
       "3   unknown    3   jun       199         4     -1         0  unknown  no  \n",
       "4   unknown    5   may       226         1     -1         0  unknown  no  "
      ]
     },
     "execution_count": 3,
     "metadata": {},
     "output_type": "execute_result"
    }
   ],
   "source": [
    "dataset.head()"
   ]
  },
  {
   "cell_type": "code",
   "execution_count": 4,
   "metadata": {
    "ExecuteTime": {
     "end_time": "2019-05-30T13:28:13.674814Z",
     "start_time": "2019-05-30T13:28:13.662376Z"
    }
   },
   "outputs": [
    {
     "name": "stdout",
     "output_type": "stream",
     "text": [
      "<class 'pandas.core.frame.DataFrame'>\n",
      "RangeIndex: 4521 entries, 0 to 4520\n",
      "Data columns (total 17 columns):\n",
      "age          4521 non-null int64\n",
      "job          4521 non-null object\n",
      "marital      4521 non-null object\n",
      "education    4521 non-null object\n",
      "default      4521 non-null object\n",
      "balance      4521 non-null int64\n",
      "housing      4521 non-null object\n",
      "loan         4521 non-null object\n",
      "contact      4521 non-null object\n",
      "day          4521 non-null int64\n",
      "month        4521 non-null object\n",
      "duration     4521 non-null int64\n",
      "campaign     4521 non-null int64\n",
      "pdays        4521 non-null int64\n",
      "previous     4521 non-null int64\n",
      "poutcome     4521 non-null object\n",
      "y            4521 non-null object\n",
      "dtypes: int64(7), object(10)\n",
      "memory usage: 600.5+ KB\n"
     ]
    }
   ],
   "source": [
    "#show dataset information\n",
    "dataset.info()"
   ]
  },
  {
   "cell_type": "code",
   "execution_count": 5,
   "metadata": {
    "ExecuteTime": {
     "end_time": "2019-05-30T13:28:13.681667Z",
     "start_time": "2019-05-30T13:28:13.676814Z"
    }
   },
   "outputs": [
    {
     "data": {
      "text/plain": [
       "Index(['age', 'job', 'marital', 'education', 'default', 'balance', 'housing',\n",
       "       'loan', 'contact', 'day', 'month', 'duration', 'campaign', 'pdays',\n",
       "       'previous', 'poutcome', 'y'],\n",
       "      dtype='object')"
      ]
     },
     "execution_count": 5,
     "metadata": {},
     "output_type": "execute_result"
    }
   ],
   "source": [
    "#shows dataset columns\n",
    "dataset.columns"
   ]
  },
  {
   "cell_type": "code",
   "execution_count": 6,
   "metadata": {
    "ExecuteTime": {
     "end_time": "2019-05-30T13:28:13.728557Z",
     "start_time": "2019-05-30T13:28:13.683658Z"
    }
   },
   "outputs": [
    {
     "data": {
      "text/html": [
       "<div>\n",
       "<style scoped>\n",
       "    .dataframe tbody tr th:only-of-type {\n",
       "        vertical-align: middle;\n",
       "    }\n",
       "\n",
       "    .dataframe tbody tr th {\n",
       "        vertical-align: top;\n",
       "    }\n",
       "\n",
       "    .dataframe thead th {\n",
       "        text-align: right;\n",
       "    }\n",
       "</style>\n",
       "<table border=\"1\" class=\"dataframe\">\n",
       "  <thead>\n",
       "    <tr style=\"text-align: right;\">\n",
       "      <th></th>\n",
       "      <th>age</th>\n",
       "      <th>balance</th>\n",
       "      <th>day</th>\n",
       "      <th>duration</th>\n",
       "      <th>campaign</th>\n",
       "      <th>pdays</th>\n",
       "      <th>previous</th>\n",
       "    </tr>\n",
       "  </thead>\n",
       "  <tbody>\n",
       "    <tr>\n",
       "      <th>count</th>\n",
       "      <td>4521.000000</td>\n",
       "      <td>4521.000000</td>\n",
       "      <td>4521.000000</td>\n",
       "      <td>4521.000000</td>\n",
       "      <td>4521.000000</td>\n",
       "      <td>4521.000000</td>\n",
       "      <td>4521.000000</td>\n",
       "    </tr>\n",
       "    <tr>\n",
       "      <th>mean</th>\n",
       "      <td>41.170095</td>\n",
       "      <td>1422.657819</td>\n",
       "      <td>15.915284</td>\n",
       "      <td>263.961292</td>\n",
       "      <td>2.793630</td>\n",
       "      <td>39.766645</td>\n",
       "      <td>0.542579</td>\n",
       "    </tr>\n",
       "    <tr>\n",
       "      <th>std</th>\n",
       "      <td>10.576211</td>\n",
       "      <td>3009.638142</td>\n",
       "      <td>8.247667</td>\n",
       "      <td>259.856633</td>\n",
       "      <td>3.109807</td>\n",
       "      <td>100.121124</td>\n",
       "      <td>1.693562</td>\n",
       "    </tr>\n",
       "    <tr>\n",
       "      <th>min</th>\n",
       "      <td>19.000000</td>\n",
       "      <td>-3313.000000</td>\n",
       "      <td>1.000000</td>\n",
       "      <td>4.000000</td>\n",
       "      <td>1.000000</td>\n",
       "      <td>-1.000000</td>\n",
       "      <td>0.000000</td>\n",
       "    </tr>\n",
       "    <tr>\n",
       "      <th>25%</th>\n",
       "      <td>33.000000</td>\n",
       "      <td>69.000000</td>\n",
       "      <td>9.000000</td>\n",
       "      <td>104.000000</td>\n",
       "      <td>1.000000</td>\n",
       "      <td>-1.000000</td>\n",
       "      <td>0.000000</td>\n",
       "    </tr>\n",
       "    <tr>\n",
       "      <th>50%</th>\n",
       "      <td>39.000000</td>\n",
       "      <td>444.000000</td>\n",
       "      <td>16.000000</td>\n",
       "      <td>185.000000</td>\n",
       "      <td>2.000000</td>\n",
       "      <td>-1.000000</td>\n",
       "      <td>0.000000</td>\n",
       "    </tr>\n",
       "    <tr>\n",
       "      <th>75%</th>\n",
       "      <td>49.000000</td>\n",
       "      <td>1480.000000</td>\n",
       "      <td>21.000000</td>\n",
       "      <td>329.000000</td>\n",
       "      <td>3.000000</td>\n",
       "      <td>-1.000000</td>\n",
       "      <td>0.000000</td>\n",
       "    </tr>\n",
       "    <tr>\n",
       "      <th>max</th>\n",
       "      <td>87.000000</td>\n",
       "      <td>71188.000000</td>\n",
       "      <td>31.000000</td>\n",
       "      <td>3025.000000</td>\n",
       "      <td>50.000000</td>\n",
       "      <td>871.000000</td>\n",
       "      <td>25.000000</td>\n",
       "    </tr>\n",
       "  </tbody>\n",
       "</table>\n",
       "</div>"
      ],
      "text/plain": [
       "               age       balance          day     duration     campaign  \\\n",
       "count  4521.000000   4521.000000  4521.000000  4521.000000  4521.000000   \n",
       "mean     41.170095   1422.657819    15.915284   263.961292     2.793630   \n",
       "std      10.576211   3009.638142     8.247667   259.856633     3.109807   \n",
       "min      19.000000  -3313.000000     1.000000     4.000000     1.000000   \n",
       "25%      33.000000     69.000000     9.000000   104.000000     1.000000   \n",
       "50%      39.000000    444.000000    16.000000   185.000000     2.000000   \n",
       "75%      49.000000   1480.000000    21.000000   329.000000     3.000000   \n",
       "max      87.000000  71188.000000    31.000000  3025.000000    50.000000   \n",
       "\n",
       "             pdays     previous  \n",
       "count  4521.000000  4521.000000  \n",
       "mean     39.766645     0.542579  \n",
       "std     100.121124     1.693562  \n",
       "min      -1.000000     0.000000  \n",
       "25%      -1.000000     0.000000  \n",
       "50%      -1.000000     0.000000  \n",
       "75%      -1.000000     0.000000  \n",
       "max     871.000000    25.000000  "
      ]
     },
     "execution_count": 6,
     "metadata": {},
     "output_type": "execute_result"
    }
   ],
   "source": [
    "#describe dataset\n",
    "dataset.describe()"
   ]
  },
  {
   "cell_type": "code",
   "execution_count": 7,
   "metadata": {
    "ExecuteTime": {
     "end_time": "2019-05-30T13:28:13.739556Z",
     "start_time": "2019-05-30T13:28:13.730875Z"
    }
   },
   "outputs": [
    {
     "data": {
      "text/plain": [
       "age          0\n",
       "job          0\n",
       "marital      0\n",
       "education    0\n",
       "default      0\n",
       "balance      0\n",
       "housing      0\n",
       "loan         0\n",
       "contact      0\n",
       "day          0\n",
       "month        0\n",
       "duration     0\n",
       "campaign     0\n",
       "pdays        0\n",
       "previous     0\n",
       "poutcome     0\n",
       "y            0\n",
       "dtype: int64"
      ]
     },
     "execution_count": 7,
     "metadata": {},
     "output_type": "execute_result"
    }
   ],
   "source": [
    "#find missing value\n",
    "dataset.isnull().sum()"
   ]
  },
  {
   "cell_type": "code",
   "execution_count": 8,
   "metadata": {
    "ExecuteTime": {
     "end_time": "2019-05-30T13:28:13.748689Z",
     "start_time": "2019-05-30T13:28:13.741655Z"
    }
   },
   "outputs": [
    {
     "data": {
      "text/plain": [
       "(4521, 17)"
      ]
     },
     "execution_count": 8,
     "metadata": {},
     "output_type": "execute_result"
    }
   ],
   "source": [
    "dataset.shape"
   ]
  },
  {
   "cell_type": "code",
   "execution_count": 9,
   "metadata": {
    "ExecuteTime": {
     "end_time": "2019-05-30T13:28:13.790342Z",
     "start_time": "2019-05-30T13:28:13.750762Z"
    }
   },
   "outputs": [
    {
     "data": {
      "text/html": [
       "<div>\n",
       "<style scoped>\n",
       "    .dataframe tbody tr th:only-of-type {\n",
       "        vertical-align: middle;\n",
       "    }\n",
       "\n",
       "    .dataframe tbody tr th {\n",
       "        vertical-align: top;\n",
       "    }\n",
       "\n",
       "    .dataframe thead th {\n",
       "        text-align: right;\n",
       "    }\n",
       "</style>\n",
       "<table border=\"1\" class=\"dataframe\">\n",
       "  <thead>\n",
       "    <tr style=\"text-align: right;\">\n",
       "      <th></th>\n",
       "      <th>age</th>\n",
       "      <th>job</th>\n",
       "      <th>marital</th>\n",
       "      <th>education</th>\n",
       "      <th>default</th>\n",
       "      <th>balance</th>\n",
       "      <th>housing</th>\n",
       "      <th>loan</th>\n",
       "      <th>contact</th>\n",
       "      <th>day</th>\n",
       "      <th>month</th>\n",
       "      <th>duration</th>\n",
       "      <th>campaign</th>\n",
       "      <th>pdays</th>\n",
       "      <th>previous</th>\n",
       "      <th>poutcome</th>\n",
       "      <th>y</th>\n",
       "    </tr>\n",
       "  </thead>\n",
       "  <tbody>\n",
       "    <tr>\n",
       "      <th>0</th>\n",
       "      <td>30</td>\n",
       "      <td>unemployed</td>\n",
       "      <td>married</td>\n",
       "      <td>primary</td>\n",
       "      <td>0</td>\n",
       "      <td>1787</td>\n",
       "      <td>0</td>\n",
       "      <td>0</td>\n",
       "      <td>cellular</td>\n",
       "      <td>19</td>\n",
       "      <td>oct</td>\n",
       "      <td>79</td>\n",
       "      <td>1</td>\n",
       "      <td>-1</td>\n",
       "      <td>0</td>\n",
       "      <td>unknown</td>\n",
       "      <td>0</td>\n",
       "    </tr>\n",
       "    <tr>\n",
       "      <th>1</th>\n",
       "      <td>33</td>\n",
       "      <td>services</td>\n",
       "      <td>married</td>\n",
       "      <td>secondary</td>\n",
       "      <td>0</td>\n",
       "      <td>4789</td>\n",
       "      <td>1</td>\n",
       "      <td>1</td>\n",
       "      <td>cellular</td>\n",
       "      <td>11</td>\n",
       "      <td>may</td>\n",
       "      <td>220</td>\n",
       "      <td>1</td>\n",
       "      <td>339</td>\n",
       "      <td>4</td>\n",
       "      <td>failure</td>\n",
       "      <td>0</td>\n",
       "    </tr>\n",
       "    <tr>\n",
       "      <th>2</th>\n",
       "      <td>35</td>\n",
       "      <td>management</td>\n",
       "      <td>single</td>\n",
       "      <td>tertiary</td>\n",
       "      <td>0</td>\n",
       "      <td>1350</td>\n",
       "      <td>1</td>\n",
       "      <td>0</td>\n",
       "      <td>cellular</td>\n",
       "      <td>16</td>\n",
       "      <td>apr</td>\n",
       "      <td>185</td>\n",
       "      <td>1</td>\n",
       "      <td>330</td>\n",
       "      <td>1</td>\n",
       "      <td>failure</td>\n",
       "      <td>0</td>\n",
       "    </tr>\n",
       "    <tr>\n",
       "      <th>3</th>\n",
       "      <td>30</td>\n",
       "      <td>management</td>\n",
       "      <td>married</td>\n",
       "      <td>tertiary</td>\n",
       "      <td>0</td>\n",
       "      <td>1476</td>\n",
       "      <td>1</td>\n",
       "      <td>1</td>\n",
       "      <td>unknown</td>\n",
       "      <td>3</td>\n",
       "      <td>jun</td>\n",
       "      <td>199</td>\n",
       "      <td>4</td>\n",
       "      <td>-1</td>\n",
       "      <td>0</td>\n",
       "      <td>unknown</td>\n",
       "      <td>0</td>\n",
       "    </tr>\n",
       "    <tr>\n",
       "      <th>4</th>\n",
       "      <td>59</td>\n",
       "      <td>blue-collar</td>\n",
       "      <td>married</td>\n",
       "      <td>secondary</td>\n",
       "      <td>0</td>\n",
       "      <td>0</td>\n",
       "      <td>1</td>\n",
       "      <td>0</td>\n",
       "      <td>unknown</td>\n",
       "      <td>5</td>\n",
       "      <td>may</td>\n",
       "      <td>226</td>\n",
       "      <td>1</td>\n",
       "      <td>-1</td>\n",
       "      <td>0</td>\n",
       "      <td>unknown</td>\n",
       "      <td>0</td>\n",
       "    </tr>\n",
       "  </tbody>\n",
       "</table>\n",
       "</div>"
      ],
      "text/plain": [
       "   age          job  marital  education  default  balance  housing  loan  \\\n",
       "0   30   unemployed  married    primary        0     1787        0     0   \n",
       "1   33     services  married  secondary        0     4789        1     1   \n",
       "2   35   management   single   tertiary        0     1350        1     0   \n",
       "3   30   management  married   tertiary        0     1476        1     1   \n",
       "4   59  blue-collar  married  secondary        0        0        1     0   \n",
       "\n",
       "    contact  day month  duration  campaign  pdays  previous poutcome  y  \n",
       "0  cellular   19   oct        79         1     -1         0  unknown  0  \n",
       "1  cellular   11   may       220         1    339         4  failure  0  \n",
       "2  cellular   16   apr       185         1    330         1  failure  0  \n",
       "3   unknown    3   jun       199         4     -1         0  unknown  0  \n",
       "4   unknown    5   may       226         1     -1         0  unknown  0  "
      ]
     },
     "execution_count": 9,
     "metadata": {},
     "output_type": "execute_result"
    }
   ],
   "source": [
    "#replace yes, no into 1,0\n",
    "dataset.replace(['yes','no'],[1,0],inplace=True)\n",
    "dataset.head()"
   ]
  },
  {
   "cell_type": "code",
   "execution_count": 10,
   "metadata": {
    "ExecuteTime": {
     "end_time": "2019-05-30T13:28:14.556287Z",
     "start_time": "2019-05-30T13:28:13.794341Z"
    }
   },
   "outputs": [
    {
     "data": {
      "text/plain": [
       "<matplotlib.axes._subplots.AxesSubplot at 0x7f3aaabb93c8>"
      ]
     },
     "execution_count": 10,
     "metadata": {},
     "output_type": "execute_result"
    },
    {
     "data": {
      "image/png": "[encoded data removed]",
      "text/plain": [
       "<Figure size 432x288 with 2 Axes>"
      ]
     },
     "metadata": {
      "needs_background": "light"
     },
     "output_type": "display_data"
    }
   ],
   "source": [
    "#find correlation\n",
    "corr=dataset.corr()\n",
    "sb.heatmap(corr,annot=True)"
   ]
  },
  {
   "cell_type": "code",
   "execution_count": 11,
   "metadata": {
    "ExecuteTime": {
     "end_time": "2019-05-30T13:28:14.565222Z",
     "start_time": "2019-05-30T13:28:14.557864Z"
    }
   },
   "outputs": [
    {
     "name": "stdout",
     "output_type": "stream",
     "text": [
      "y           1.000000\n",
      "duration    0.401118\n",
      "previous    0.116714\n",
      "pdays       0.104087\n",
      "age         0.045092\n",
      "balance     0.017905\n",
      "default     0.001303\n",
      "day        -0.011244\n",
      "campaign   -0.061147\n",
      "loan       -0.070517\n",
      "housing    -0.104683\n",
      "Name: y, dtype: float64\n",
      "----------------------\n",
      "default     0.001303\n",
      "day        -0.011244\n",
      "campaign   -0.061147\n",
      "loan       -0.070517\n",
      "housing    -0.104683\n",
      "Name: y, dtype: float64\n"
     ]
    }
   ],
   "source": [
    "print(corr['y'].sort_values(ascending=False)[:]) #top 15 values\n",
    "print('----------------------')\n",
    "print(corr['y'].sort_values(ascending=False)[-5:]) #last 5 values"
   ]
  },
  {
   "cell_type": "code",
   "execution_count": 12,
   "metadata": {
    "ExecuteTime": {
     "end_time": "2019-05-30T13:28:14.935554Z",
     "start_time": "2019-05-30T13:28:14.566869Z"
    }
   },
   "outputs": [
    {
     "data": {
      "text/plain": [
       "<matplotlib.axes._subplots.AxesSubplot at 0x7f3aa89d47b8>"
      ]
     },
     "execution_count": 12,
     "metadata": {},
     "output_type": "execute_result"
    },
    {
     "data": {
      "image/png": "[encoded data removed]",
      "text/plain": [
       "<Figure size 432x288 with 1 Axes>"
      ]
     },
     "metadata": {
      "needs_background": "light"
     },
     "output_type": "display_data"
    }
   ],
   "source": [
    "#plat boxplot\n",
    "sb.boxplot(data = dataset)"
   ]
  },
  {
   "cell_type": "code",
   "execution_count": 13,
   "metadata": {
    "ExecuteTime": {
     "end_time": "2019-05-30T13:28:14.947653Z",
     "start_time": "2019-05-30T13:28:14.939539Z"
    }
   },
   "outputs": [
    {
     "data": {
      "text/plain": [
       "(4521, 17)"
      ]
     },
     "execution_count": 13,
     "metadata": {},
     "output_type": "execute_result"
    }
   ],
   "source": [
    "dataset.shape"
   ]
  },
  {
   "cell_type": "code",
   "execution_count": 14,
   "metadata": {
    "ExecuteTime": {
     "end_time": "2019-05-30T13:28:14.956285Z",
     "start_time": "2019-05-30T13:28:14.949567Z"
    },
    "scrolled": true
   },
   "outputs": [
    {
     "data": {
      "text/plain": [
       "age           int64\n",
       "job          object\n",
       "marital      object\n",
       "education    object\n",
       "default       int64\n",
       "balance       int64\n",
       "housing       int64\n",
       "loan          int64\n",
       "contact      object\n",
       "day           int64\n",
       "month        object\n",
       "duration      int64\n",
       "campaign      int64\n",
       "pdays         int64\n",
       "previous      int64\n",
       "poutcome     object\n",
       "y             int64\n",
       "dtype: object"
      ]
     },
     "execution_count": 14,
     "metadata": {},
     "output_type": "execute_result"
    }
   ],
   "source": [
    "#show datatype\n",
    "dataset.dtypes"
   ]
  },
  {
   "cell_type": "code",
   "execution_count": 15,
   "metadata": {
    "ExecuteTime": {
     "end_time": "2019-05-30T13:28:14.995389Z",
     "start_time": "2019-05-30T13:28:14.958217Z"
    }
   },
   "outputs": [
    {
     "data": {
      "text/html": [
       "<div>\n",
       "<style scoped>\n",
       "    .dataframe tbody tr th:only-of-type {\n",
       "        vertical-align: middle;\n",
       "    }\n",
       "\n",
       "    .dataframe tbody tr th {\n",
       "        vertical-align: top;\n",
       "    }\n",
       "\n",
       "    .dataframe thead th {\n",
       "        text-align: right;\n",
       "    }\n",
       "</style>\n",
       "<table border=\"1\" class=\"dataframe\">\n",
       "  <thead>\n",
       "    <tr style=\"text-align: right;\">\n",
       "      <th></th>\n",
       "      <th>age</th>\n",
       "      <th>default</th>\n",
       "      <th>balance</th>\n",
       "      <th>housing</th>\n",
       "      <th>loan</th>\n",
       "      <th>day</th>\n",
       "      <th>duration</th>\n",
       "      <th>campaign</th>\n",
       "      <th>pdays</th>\n",
       "      <th>previous</th>\n",
       "      <th>...</th>\n",
       "      <th>month_jun</th>\n",
       "      <th>month_mar</th>\n",
       "      <th>month_may</th>\n",
       "      <th>month_nov</th>\n",
       "      <th>month_oct</th>\n",
       "      <th>month_sep</th>\n",
       "      <th>poutcome_failure</th>\n",
       "      <th>poutcome_other</th>\n",
       "      <th>poutcome_success</th>\n",
       "      <th>poutcome_unknown</th>\n",
       "    </tr>\n",
       "  </thead>\n",
       "  <tbody>\n",
       "    <tr>\n",
       "      <th>0</th>\n",
       "      <td>30</td>\n",
       "      <td>0</td>\n",
       "      <td>1787</td>\n",
       "      <td>0</td>\n",
       "      <td>0</td>\n",
       "      <td>19</td>\n",
       "      <td>79</td>\n",
       "      <td>1</td>\n",
       "      <td>-1</td>\n",
       "      <td>0</td>\n",
       "      <td>...</td>\n",
       "      <td>0</td>\n",
       "      <td>0</td>\n",
       "      <td>0</td>\n",
       "      <td>0</td>\n",
       "      <td>1</td>\n",
       "      <td>0</td>\n",
       "      <td>0</td>\n",
       "      <td>0</td>\n",
       "      <td>0</td>\n",
       "      <td>1</td>\n",
       "    </tr>\n",
       "    <tr>\n",
       "      <th>1</th>\n",
       "      <td>33</td>\n",
       "      <td>0</td>\n",
       "      <td>4789</td>\n",
       "      <td>1</td>\n",
       "      <td>1</td>\n",
       "      <td>11</td>\n",
       "      <td>220</td>\n",
       "      <td>1</td>\n",
       "      <td>339</td>\n",
       "      <td>4</td>\n",
       "      <td>...</td>\n",
       "      <td>0</td>\n",
       "      <td>0</td>\n",
       "      <td>1</td>\n",
       "      <td>0</td>\n",
       "      <td>0</td>\n",
       "      <td>0</td>\n",
       "      <td>1</td>\n",
       "      <td>0</td>\n",
       "      <td>0</td>\n",
       "      <td>0</td>\n",
       "    </tr>\n",
       "    <tr>\n",
       "      <th>2</th>\n",
       "      <td>35</td>\n",
       "      <td>0</td>\n",
       "      <td>1350</td>\n",
       "      <td>1</td>\n",
       "      <td>0</td>\n",
       "      <td>16</td>\n",
       "      <td>185</td>\n",
       "      <td>1</td>\n",
       "      <td>330</td>\n",
       "      <td>1</td>\n",
       "      <td>...</td>\n",
       "      <td>0</td>\n",
       "      <td>0</td>\n",
       "      <td>0</td>\n",
       "      <td>0</td>\n",
       "      <td>0</td>\n",
       "      <td>0</td>\n",
       "      <td>1</td>\n",
       "      <td>0</td>\n",
       "      <td>0</td>\n",
       "      <td>0</td>\n",
       "    </tr>\n",
       "    <tr>\n",
       "      <th>3</th>\n",
       "      <td>30</td>\n",
       "      <td>0</td>\n",
       "      <td>1476</td>\n",
       "      <td>1</td>\n",
       "      <td>1</td>\n",
       "      <td>3</td>\n",
       "      <td>199</td>\n",
       "      <td>4</td>\n",
       "      <td>-1</td>\n",
       "      <td>0</td>\n",
       "      <td>...</td>\n",
       "      <td>1</td>\n",
       "      <td>0</td>\n",
       "      <td>0</td>\n",
       "      <td>0</td>\n",
       "      <td>0</td>\n",
       "      <td>0</td>\n",
       "      <td>0</td>\n",
       "      <td>0</td>\n",
       "      <td>0</td>\n",
       "      <td>1</td>\n",
       "    </tr>\n",
       "    <tr>\n",
       "      <th>4</th>\n",
       "      <td>59</td>\n",
       "      <td>0</td>\n",
       "      <td>0</td>\n",
       "      <td>1</td>\n",
       "      <td>0</td>\n",
       "      <td>5</td>\n",
       "      <td>226</td>\n",
       "      <td>1</td>\n",
       "      <td>-1</td>\n",
       "      <td>0</td>\n",
       "      <td>...</td>\n",
       "      <td>0</td>\n",
       "      <td>0</td>\n",
       "      <td>1</td>\n",
       "      <td>0</td>\n",
       "      <td>0</td>\n",
       "      <td>0</td>\n",
       "      <td>0</td>\n",
       "      <td>0</td>\n",
       "      <td>0</td>\n",
       "      <td>1</td>\n",
       "    </tr>\n",
       "  </tbody>\n",
       "</table>\n",
       "<p>5 rows × 49 columns</p>\n",
       "</div>"
      ],
      "text/plain": [
       "   age  default  balance  housing  loan  day  duration  campaign  pdays  \\\n",
       "0   30        0     1787        0     0   19        79         1     -1   \n",
       "1   33        0     4789        1     1   11       220         1    339   \n",
       "2   35        0     1350        1     0   16       185         1    330   \n",
       "3   30        0     1476        1     1    3       199         4     -1   \n",
       "4   59        0        0        1     0    5       226         1     -1   \n",
       "\n",
       "   previous  ...  month_jun  month_mar  month_may  month_nov  month_oct  \\\n",
       "0         0  ...          0          0          0          0          1   \n",
       "1         4  ...          0          0          1          0          0   \n",
       "2         1  ...          0          0          0          0          0   \n",
       "3         0  ...          1          0          0          0          0   \n",
       "4         0  ...          0          0          1          0          0   \n",
       "\n",
       "   month_sep  poutcome_failure  poutcome_other  poutcome_success  \\\n",
       "0          0                 0               0                 0   \n",
       "1          0                 1               0                 0   \n",
       "2          0                 1               0                 0   \n",
       "3          0                 0               0                 0   \n",
       "4          0                 0               0                 0   \n",
       "\n",
       "   poutcome_unknown  \n",
       "0                 1  \n",
       "1                 0  \n",
       "2                 0  \n",
       "3                 1  \n",
       "4                 1  \n",
       "\n",
       "[5 rows x 49 columns]"
      ]
     },
     "execution_count": 15,
     "metadata": {},
     "output_type": "execute_result"
    }
   ],
   "source": [
    "# # convert into categorical dataset\n",
    "# def categorical_data(dataset):\n",
    "#     dataset=pd.get_dummies(dataset)\n",
    "#     return dataset.head()\n",
    "# dataset=categorical_data(dataset)\n",
    "# dataset.shape\n",
    "dataset=pd.get_dummies(dataset)\n",
    "dataset.head()"
   ]
  },
  {
   "cell_type": "code",
   "execution_count": 16,
   "metadata": {
    "ExecuteTime": {
     "end_time": "2019-05-30T13:28:15.001430Z",
     "start_time": "2019-05-30T13:28:14.997066Z"
    }
   },
   "outputs": [
    {
     "data": {
      "text/plain": [
       "age        int64\n",
       "default    int64\n",
       "balance    int64\n",
       "housing    int64\n",
       "loan       int64\n",
       "dtype: object"
      ]
     },
     "execution_count": 16,
     "metadata": {},
     "output_type": "execute_result"
    }
   ],
   "source": [
    "dataset.dtypes.head()"
   ]
  },
  {
   "cell_type": "code",
   "execution_count": 17,
   "metadata": {
    "ExecuteTime": {
     "end_time": "2019-05-30T13:28:15.014490Z",
     "start_time": "2019-05-30T13:28:15.002995Z"
    }
   },
   "outputs": [
    {
     "data": {
      "text/plain": [
       "(4521, 49)"
      ]
     },
     "execution_count": 17,
     "metadata": {},
     "output_type": "execute_result"
    }
   ],
   "source": [
    "#feature scaling\n",
    "def feature_scaling(dataset):\n",
    "    for i in dataset.columns:\n",
    "        dataset[i]=(dataset[i]-dataset[i].min())/(dataset[i].max()-dataset[i].min())\n",
    "        return dataset\n",
    "    \n",
    "feature_scaling(dataset)\n",
    "dataset.shape"
   ]
  },
  {
   "cell_type": "code",
   "execution_count": 18,
   "metadata": {
    "ExecuteTime": {
     "end_time": "2019-05-30T13:28:15.024766Z",
     "start_time": "2019-05-30T13:28:15.016491Z"
    }
   },
   "outputs": [],
   "source": [
    "#split data \n",
    "def split_train_test(dataset):\n",
    "    train=len(dataset)*0.70\n",
    "    train=int(train)\n",
    "    test=len(dataset)-train\n",
    "    test=int(test)\n",
    "    train=dataset.head(train)\n",
    "    test=dataset.tail(test)\n",
    "    return train ,test\n",
    "\n",
    "train,test=split_train_test(dataset)"
   ]
  },
  {
   "cell_type": "code",
   "execution_count": 19,
   "metadata": {
    "ExecuteTime": {
     "end_time": "2019-05-30T13:28:15.037616Z",
     "start_time": "2019-05-30T13:28:15.026690Z"
    }
   },
   "outputs": [
    {
     "data": {
      "text/plain": [
       "((3164, 49), (1357, 49))"
      ]
     },
     "execution_count": 19,
     "metadata": {},
     "output_type": "execute_result"
    }
   ],
   "source": [
    "train.shape,test.shape"
   ]
  },
  {
   "cell_type": "code",
   "execution_count": 20,
   "metadata": {
    "ExecuteTime": {
     "end_time": "2019-05-30T13:28:15.049948Z",
     "start_time": "2019-05-30T13:28:15.041796Z"
    }
   },
   "outputs": [],
   "source": [
    "# separate test,train into train data and test data\n",
    "def separate(dataset):\n",
    "    output=dataset.y\n",
    "    return dataset.drop('y',axis=1),output\n",
    "\n",
    "\n",
    "train_x_data,train_y_data=separate(train)\n",
    "test_x_data,test_y_data=separate(test)\n",
    "\n",
    "\n"
   ]
  },
  {
   "cell_type": "code",
   "execution_count": 21,
   "metadata": {
    "ExecuteTime": {
     "end_time": "2019-05-30T13:28:15.062694Z",
     "start_time": "2019-05-30T13:28:15.051965Z"
    }
   },
   "outputs": [
    {
     "data": {
      "text/plain": [
       "((3164, 48), (3164,), (1357, 48), (1357,))"
      ]
     },
     "execution_count": 21,
     "metadata": {},
     "output_type": "execute_result"
    }
   ],
   "source": [
    "train_x_data.shape,train_y_data.shape,test_x_data.shape,test_y_data.shape"
   ]
  },
  {
   "cell_type": "code",
   "execution_count": 22,
   "metadata": {
    "ExecuteTime": {
     "end_time": "2019-05-30T13:28:15.075824Z",
     "start_time": "2019-05-30T13:28:15.066007Z"
    }
   },
   "outputs": [
    {
     "data": {
      "text/plain": [
       "age        float64\n",
       "default      int64\n",
       "balance      int64\n",
       "housing      int64\n",
       "loan         int64\n",
       "dtype: object"
      ]
     },
     "execution_count": 22,
     "metadata": {},
     "output_type": "execute_result"
    }
   ],
   "source": [
    "(pd.DataFrame(train)).dtypes.head()"
   ]
  },
  {
   "cell_type": "code",
   "execution_count": 23,
   "metadata": {
    "ExecuteTime": {
     "end_time": "2019-05-30T13:28:15.269811Z",
     "start_time": "2019-05-30T13:28:15.079721Z"
    },
    "scrolled": true
   },
   "outputs": [
    {
     "name": "stdout",
     "output_type": "stream",
     "text": [
      "neighbors [0, 0, 0]\n",
      "result 0\n",
      "predicted value=0, actual_value=0\n",
      "neighbors [0, 0, 0]\n",
      "result 0\n",
      "predicted value=0, actual_value=0\n",
      "neighbors [0, 0, 0]\n",
      "result 0\n",
      "predicted value=0, actual_value=0\n",
      "neighbors [0, 0, 0]\n",
      "result 0\n",
      "predicted value=0, actual_value=0\n",
      "neighbors [0, 0, 0]\n",
      "result 0\n",
      "predicted value=0, actual_value=0\n",
      "neighbors [0, 0, 0]\n",
      "result 0\n",
      "predicted value=0, actual_value=0\n",
      "neighbors [0, 0, 0]\n",
      "result 0\n",
      "predicted value=0, actual_value=0\n",
      "neighbors [0, 0, 1]\n",
      "result 0\n",
      "predicted value=0, actual_value=0\n",
      "neighbors [0, 0, 0]\n",
      "result 0\n",
      "predicted value=0, actual_value=0\n",
      "neighbors [0, 0, 0]\n",
      "result 0\n",
      "predicted value=0, actual_value=0\n",
      "neighbors [0, 0, 0]\n",
      "result 0\n",
      "predicted value=0, actual_value=0\n",
      "neighbors [0, 0, 0]\n",
      "result 0\n",
      "predicted value=0, actual_value=0\n",
      "neighbors [0, 0, 0]\n",
      "result 0\n",
      "predicted value=0, actual_value=0\n",
      "neighbors [0, 0, 0]\n",
      "result 0\n",
      "predicted value=0, actual_value=0\n",
      "neighbors [0, 0, 1]\n",
      "result 0\n",
      "predicted value=0, actual_value=0\n",
      "neighbors [0, 0, 0]\n",
      "result 0\n",
      "predicted value=0, actual_value=0\n",
      "neighbors [0, 0, 0]\n",
      "result 0\n",
      "predicted value=0, actual_value=0\n",
      "neighbors [0, 0, 0]\n",
      "result 0\n",
      "predicted value=0, actual_value=0\n",
      "neighbors [1, 0, 0]\n",
      "result 0\n",
      "predicted value=0, actual_value=0\n",
      "neighbors [0, 0, 0]\n",
      "result 0\n",
      "predicted value=0, actual_value=0\n",
      "neighbors [0, 1, 0]\n",
      "result 0\n",
      "predicted value=0, actual_value=0\n",
      "neighbors [0, 0, 0]\n",
      "result 0\n",
      "predicted value=0, actual_value=0\n",
      "neighbors [0, 0, 0]\n",
      "result 0\n",
      "predicted value=0, actual_value=0\n",
      "neighbors [0, 1, 0]\n",
      "result 0\n",
      "predicted value=0, actual_value=0\n",
      "neighbors [0, 0, 0]\n",
      "result 0\n",
      "predicted value=0, actual_value=0\n",
      "neighbors [0, 0, 1]\n",
      "result 0\n",
      "predicted value=0, actual_value=0\n",
      "neighbors [0, 0, 0]\n",
      "result 0\n",
      "predicted value=0, actual_value=0\n",
      "neighbors [0, 0, 0]\n",
      "result 0\n",
      "predicted value=0, actual_value=0\n",
      "neighbors [0, 0, 0]\n",
      "result 0\n",
      "predicted value=0, actual_value=0\n",
      "neighbors [0, 0, 0]\n",
      "result 0\n",
      "predicted value=0, actual_value=0\n",
      "neighbors [0, 0, 0]\n",
      "result 0\n",
      "predicted value=0, actual_value=0\n",
      "neighbors [0, 0, 1]\n",
      "result 0\n",
      "predicted value=0, actual_value=0\n",
      "neighbors [0, 0, 0]\n",
      "result 0\n",
      "predicted value=0, actual_value=0\n",
      "neighbors [0, 0, 0]\n",
      "result 0\n",
      "predicted value=0, actual_value=0\n",
      "neighbors [0, 0, 0]\n",
      "result 0\n",
      "predicted value=0, actual_value=0\n",
      "neighbors [0, 0, 0]\n",
      "result 0\n",
      "predicted value=0, actual_value=0\n",
      "neighbors [0, 1, 0]\n",
      "result 0\n",
      "predicted value=0, actual_value=0\n",
      "neighbors [0, 0, 0]\n",
      "result 0\n",
      "predicted value=0, actual_value=0\n",
      "neighbors [0, 0, 0]\n",
      "result 0\n",
      "predicted value=0, actual_value=0\n",
      "neighbors [0, 0, 0]\n",
      "result 0\n",
      "predicted value=0, actual_value=0\n",
      "neighbors [0, 0, 0]\n",
      "result 0\n",
      "predicted value=0, actual_value=0\n",
      "neighbors [1, 1, 0]\n",
      "result 1\n",
      "predicted value=1, actual_value=0\n",
      "neighbors [0, 0, 0]\n",
      "result 0\n",
      "predicted value=0, actual_value=0\n",
      "neighbors [0, 0, 0]\n",
      "result 0\n",
      "predicted value=0, actual_value=0\n",
      "neighbors [0, 0, 0]\n",
      "result 0\n",
      "predicted value=0, actual_value=0\n",
      "neighbors [0, 0, 0]\n",
      "result 0\n",
      "predicted value=0, actual_value=0\n",
      "neighbors [1, 1, 0]\n",
      "result 1\n",
      "predicted value=1, actual_value=0\n",
      "neighbors [0, 0, 1]\n",
      "result 0\n",
      "predicted value=0, actual_value=0\n",
      "neighbors [0, 1, 1]\n",
      "result 1\n",
      "predicted value=1, actual_value=0\n",
      "neighbors [0, 0, 0]\n",
      "result 0\n",
      "predicted value=0, actual_value=0\n",
      "final accuracy is:= 86.0\n"
     ]
    }
   ],
   "source": [
    "import math\n",
    "import operator\n",
    "\n",
    "\n",
    "class KNN_1:\n",
    "    def __init__(self):\n",
    "        self.k=5\n",
    "        \n",
    "    \n",
    "  \n",
    "    def getNeighbors(self,x_train_data,y_train_data, x_test_data, k ):\n",
    "        distances = []\n",
    "#         print(type(x_test_data))\n",
    "        length = len(x_test_data) - 1\n",
    "#         print(\"len(x_test_data)\",len(x_test_data))\n",
    "        for x in range(len(x_train_data)):\n",
    "            dist = self.EuclideanDistance(x_test_data, x_train_data[x], length)\n",
    "            distances.append((y_train_data[x], dist))\n",
    "#             print (\"distances\",distances)\n",
    "        distances.sort(key=operator.itemgetter(1))\n",
    "#         print (\"sorted distances\",distances)\n",
    "        neighbors = []\n",
    "#         print(\"neighborslist\",neighbors)\n",
    "        for x in range(k):\n",
    "            neighbors.append(distances[x][0])\n",
    "#             print(\"append neighbors with distances\",neighbors)\n",
    "        return neighbors\n",
    "        \n",
    "    \n",
    "     #find the nearest distance using eculidean formula\n",
    "    def EuclideanDistance(self,x_test_data,x_train_data,length):\n",
    "        distance = 0\n",
    "#         print(type(x_test_data), type(x_train_data), type(length), length)\n",
    "        for i in range(length):\n",
    "            distance += pow(x_test_data[i]-x_train_data[i],2)\n",
    "#             print(\"EuclideanDistance is\",distance)\n",
    "        return math.sqrt(distance)\n",
    "\n",
    "    \n",
    "    def getResponse(self,neighbors):\n",
    "        classVotes = {}\n",
    "        for x in range(len(neighbors)):\n",
    "            response = neighbors[x]\n",
    "            if response in classVotes:\n",
    "                classVotes[response] += 1\n",
    "#                 print(\"classvotes\",classVotes)\n",
    "            else:\n",
    "                classVotes[response] = 1\n",
    "#                 print(\"classvotes1\",classVotes)\n",
    "        sortedVotes = sorted(classVotes.items(), key=operator.itemgetter(1),   reverse=True)\n",
    "#         print(\"sortedVotes\",sortedVotes)\n",
    "        return sortedVotes[0][0]\n",
    "    \n",
    "    \n",
    "    def getAccuracy(self,y_test_data, predictions):\n",
    "        correct = 0\n",
    "        for x in range(len(y_test_data)):\n",
    "            if y_test_data[x] == predictions[x]:\n",
    "                correct += 1\n",
    "        return (correct/float(len(y_test_data))) * 100.0\n",
    "def main():\n",
    "    obj=KNN_1()\n",
    "    \n",
    "    \n",
    "    #convert into array train and test data\n",
    "    x_train_data=np.array(train_x_data[:2000])\n",
    "    y_train_data=np.array(train_y_data[:2000])\n",
    "    x_test_data=np.array(test_x_data[:50])\n",
    "    y_test_data=np.array(test_y_data[:50]) \n",
    "#     x_train_data=np.reshape(len(x_train_data),1)\n",
    "#     x_test_data=np.\n",
    "    \n",
    "    predictions=[]\n",
    "    k = 3\n",
    "    \n",
    "    for i in range(len(x_test_data)):\n",
    "#         print(\"len x train data\",len(x_test_data[i]))\n",
    "#         length of x_train data is 48\n",
    "        neighbors =obj.getNeighbors(x_train_data, y_train_data,x_test_data[i], k )\n",
    "        print(\"neighbors\",neighbors)\n",
    "        result = obj.getResponse(neighbors)\n",
    "        print(\"result\",result)\n",
    "        predictions.append(result)\n",
    "        print('predicted value=' + str(result) + ', actual_value=' + str(y_test_data[-1]))\n",
    "        \n",
    "    accuracy=obj.getAccuracy(y_test_data,predictions)\n",
    "    print(\"final accuracy is:=\",accuracy)\n",
    "        \n",
    "        \n",
    "        \n",
    "        \n",
    "if __name__=='__main__':\n",
    "    main()\n",
    "        "
   ]
  },
  {
   "cell_type": "code",
   "execution_count": null,
   "metadata": {},
   "outputs": [],
   "source": []
  }
 ],
 "metadata": {
  "kernelspec": {
   "display_name": "Python 3",
   "language": "python",
   "name": "python3"
  },
  "language_info": {
   "codemirror_mode": {
    "name": "ipython",
    "version": 3
   },
   "file_extension": ".py",
   "mimetype": "text/x-python",
   "name": "python",
   "nbconvert_exporter": "python",
   "pygments_lexer": "ipython3",
   "version": "3.6.7"
  }
 },
 "nbformat": 4,
 "nbformat_minor": 2
}
