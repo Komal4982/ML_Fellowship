{
 "cells": [
  {
   "cell_type": "code",
   "execution_count": 44,
   "metadata": {},
   "outputs": [],
   "source": [
    "import numpy as np\n",
    "import seaborn as sb\n",
    "import pandas as pd\n",
    "import pandas.api.types as ptypes\n",
    "import matplotlib.pyplot as plt\n",
    "%matplotlib inline"
   ]
  },
  {
   "cell_type": "code",
   "execution_count": 45,
   "metadata": {},
   "outputs": [
    {
     "data": {
      "text/plain": [
       "x    38490.157369\n",
       "y    34907.968550\n",
       "dtype: float64"
      ]
     },
     "execution_count": 45,
     "metadata": {},
     "output_type": "execute_result"
    }
   ],
   "source": [
    "#read csv file\n",
    "train_df=pd.read_csv('train.csv')\n",
    "train_df.sum()"
   ]
  },
  {
   "cell_type": "code",
   "execution_count": 46,
   "metadata": {},
   "outputs": [
    {
     "data": {
      "text/html": [
       "<div>\n",
       "<style scoped>\n",
       "    .dataframe tbody tr th:only-of-type {\n",
       "        vertical-align: middle;\n",
       "    }\n",
       "\n",
       "    .dataframe tbody tr th {\n",
       "        vertical-align: top;\n",
       "    }\n",
       "\n",
       "    .dataframe thead th {\n",
       "        text-align: right;\n",
       "    }\n",
       "</style>\n",
       "<table border=\"1\" class=\"dataframe\">\n",
       "  <thead>\n",
       "    <tr style=\"text-align: right;\">\n",
       "      <th></th>\n",
       "      <th>x</th>\n",
       "      <th>y</th>\n",
       "    </tr>\n",
       "  </thead>\n",
       "  <tbody>\n",
       "    <tr>\n",
       "      <th>count</th>\n",
       "      <td>700.000000</td>\n",
       "      <td>699.000000</td>\n",
       "    </tr>\n",
       "    <tr>\n",
       "      <th>mean</th>\n",
       "      <td>54.985939</td>\n",
       "      <td>49.939869</td>\n",
       "    </tr>\n",
       "    <tr>\n",
       "      <th>std</th>\n",
       "      <td>134.681703</td>\n",
       "      <td>29.109217</td>\n",
       "    </tr>\n",
       "    <tr>\n",
       "      <th>min</th>\n",
       "      <td>0.000000</td>\n",
       "      <td>-3.839981</td>\n",
       "    </tr>\n",
       "    <tr>\n",
       "      <th>25%</th>\n",
       "      <td>25.000000</td>\n",
       "      <td>24.929968</td>\n",
       "    </tr>\n",
       "    <tr>\n",
       "      <th>50%</th>\n",
       "      <td>49.000000</td>\n",
       "      <td>48.973020</td>\n",
       "    </tr>\n",
       "    <tr>\n",
       "      <th>75%</th>\n",
       "      <td>75.000000</td>\n",
       "      <td>74.929911</td>\n",
       "    </tr>\n",
       "    <tr>\n",
       "      <th>max</th>\n",
       "      <td>3530.157369</td>\n",
       "      <td>108.871618</td>\n",
       "    </tr>\n",
       "  </tbody>\n",
       "</table>\n",
       "</div>"
      ],
      "text/plain": [
       "                 x           y\n",
       "count   700.000000  699.000000\n",
       "mean     54.985939   49.939869\n",
       "std     134.681703   29.109217\n",
       "min       0.000000   -3.839981\n",
       "25%      25.000000   24.929968\n",
       "50%      49.000000   48.973020\n",
       "75%      75.000000   74.929911\n",
       "max    3530.157369  108.871618"
      ]
     },
     "execution_count": 46,
     "metadata": {},
     "output_type": "execute_result"
    }
   ],
   "source": [
    "train_df.describe()"
   ]
  },
  {
   "cell_type": "code",
   "execution_count": 47,
   "metadata": {},
   "outputs": [
    {
     "data": {
      "text/html": [
       "<div>\n",
       "<style scoped>\n",
       "    .dataframe tbody tr th:only-of-type {\n",
       "        vertical-align: middle;\n",
       "    }\n",
       "\n",
       "    .dataframe tbody tr th {\n",
       "        vertical-align: top;\n",
       "    }\n",
       "\n",
       "    .dataframe thead th {\n",
       "        text-align: right;\n",
       "    }\n",
       "</style>\n",
       "<table border=\"1\" class=\"dataframe\">\n",
       "  <thead>\n",
       "    <tr style=\"text-align: right;\">\n",
       "      <th></th>\n",
       "      <th>x</th>\n",
       "      <th>y</th>\n",
       "    </tr>\n",
       "  </thead>\n",
       "  <tbody>\n",
       "    <tr>\n",
       "      <th>0</th>\n",
       "      <td>24.0</td>\n",
       "      <td>21.549452</td>\n",
       "    </tr>\n",
       "    <tr>\n",
       "      <th>1</th>\n",
       "      <td>50.0</td>\n",
       "      <td>47.464463</td>\n",
       "    </tr>\n",
       "    <tr>\n",
       "      <th>2</th>\n",
       "      <td>15.0</td>\n",
       "      <td>17.218656</td>\n",
       "    </tr>\n",
       "    <tr>\n",
       "      <th>3</th>\n",
       "      <td>38.0</td>\n",
       "      <td>36.586398</td>\n",
       "    </tr>\n",
       "    <tr>\n",
       "      <th>4</th>\n",
       "      <td>87.0</td>\n",
       "      <td>87.288984</td>\n",
       "    </tr>\n",
       "  </tbody>\n",
       "</table>\n",
       "</div>"
      ],
      "text/plain": [
       "      x          y\n",
       "0  24.0  21.549452\n",
       "1  50.0  47.464463\n",
       "2  15.0  17.218656\n",
       "3  38.0  36.586398\n",
       "4  87.0  87.288984"
      ]
     },
     "execution_count": 47,
     "metadata": {},
     "output_type": "execute_result"
    }
   ],
   "source": [
    "train_df.head()"
   ]
  },
  {
   "cell_type": "code",
   "execution_count": 48,
   "metadata": {},
   "outputs": [
    {
     "data": {
      "text/html": [
       "<div>\n",
       "<style scoped>\n",
       "    .dataframe tbody tr th:only-of-type {\n",
       "        vertical-align: middle;\n",
       "    }\n",
       "\n",
       "    .dataframe tbody tr th {\n",
       "        vertical-align: top;\n",
       "    }\n",
       "\n",
       "    .dataframe thead th {\n",
       "        text-align: right;\n",
       "    }\n",
       "</style>\n",
       "<table border=\"1\" class=\"dataframe\">\n",
       "  <thead>\n",
       "    <tr style=\"text-align: right;\">\n",
       "      <th></th>\n",
       "      <th>x</th>\n",
       "      <th>y</th>\n",
       "    </tr>\n",
       "  </thead>\n",
       "  <tbody>\n",
       "    <tr>\n",
       "      <th>count</th>\n",
       "      <td>700.000000</td>\n",
       "      <td>699.000000</td>\n",
       "    </tr>\n",
       "    <tr>\n",
       "      <th>mean</th>\n",
       "      <td>54.985939</td>\n",
       "      <td>49.939869</td>\n",
       "    </tr>\n",
       "    <tr>\n",
       "      <th>std</th>\n",
       "      <td>134.681703</td>\n",
       "      <td>29.109217</td>\n",
       "    </tr>\n",
       "    <tr>\n",
       "      <th>min</th>\n",
       "      <td>0.000000</td>\n",
       "      <td>-3.839981</td>\n",
       "    </tr>\n",
       "    <tr>\n",
       "      <th>25%</th>\n",
       "      <td>25.000000</td>\n",
       "      <td>24.929968</td>\n",
       "    </tr>\n",
       "    <tr>\n",
       "      <th>50%</th>\n",
       "      <td>49.000000</td>\n",
       "      <td>48.973020</td>\n",
       "    </tr>\n",
       "    <tr>\n",
       "      <th>75%</th>\n",
       "      <td>75.000000</td>\n",
       "      <td>74.929911</td>\n",
       "    </tr>\n",
       "    <tr>\n",
       "      <th>max</th>\n",
       "      <td>3530.157369</td>\n",
       "      <td>108.871618</td>\n",
       "    </tr>\n",
       "  </tbody>\n",
       "</table>\n",
       "</div>"
      ],
      "text/plain": [
       "                 x           y\n",
       "count   700.000000  699.000000\n",
       "mean     54.985939   49.939869\n",
       "std     134.681703   29.109217\n",
       "min       0.000000   -3.839981\n",
       "25%      25.000000   24.929968\n",
       "50%      49.000000   48.973020\n",
       "75%      75.000000   74.929911\n",
       "max    3530.157369  108.871618"
      ]
     },
     "execution_count": 48,
     "metadata": {},
     "output_type": "execute_result"
    }
   ],
   "source": [
    "train_df.describe()"
   ]
  },
  {
   "cell_type": "code",
   "execution_count": 49,
   "metadata": {},
   "outputs": [
    {
     "data": {
      "text/plain": [
       "Index(['x', 'y'], dtype='object')"
      ]
     },
     "execution_count": 49,
     "metadata": {},
     "output_type": "execute_result"
    }
   ],
   "source": [
    "train_df.columns"
   ]
  },
  {
   "cell_type": "code",
   "execution_count": 50,
   "metadata": {},
   "outputs": [
    {
     "data": {
      "text/plain": [
       "x    float64\n",
       "y    float64\n",
       "dtype: object"
      ]
     },
     "execution_count": 50,
     "metadata": {},
     "output_type": "execute_result"
    }
   ],
   "source": [
    "train_df.dtypes"
   ]
  },
  {
   "cell_type": "code",
   "execution_count": 51,
   "metadata": {},
   "outputs": [
    {
     "data": {
      "text/plain": [
       "x    0\n",
       "y    1\n",
       "dtype: int64"
      ]
     },
     "execution_count": 51,
     "metadata": {},
     "output_type": "execute_result"
    }
   ],
   "source": [
    "train_df.isnull().sum()"
   ]
  },
  {
   "cell_type": "code",
   "execution_count": 52,
   "metadata": {},
   "outputs": [
    {
     "data": {
      "text/plain": [
       "0"
      ]
     },
     "execution_count": 52,
     "metadata": {},
     "output_type": "execute_result"
    }
   ],
   "source": [
    "train_df.duplicated().sum()"
   ]
  },
  {
   "cell_type": "code",
   "execution_count": 53,
   "metadata": {},
   "outputs": [
    {
     "data": {
      "text/html": [
       "<div>\n",
       "<style scoped>\n",
       "    .dataframe tbody tr th:only-of-type {\n",
       "        vertical-align: middle;\n",
       "    }\n",
       "\n",
       "    .dataframe tbody tr th {\n",
       "        vertical-align: top;\n",
       "    }\n",
       "\n",
       "    .dataframe thead th {\n",
       "        text-align: right;\n",
       "    }\n",
       "</style>\n",
       "<table border=\"1\" class=\"dataframe\">\n",
       "  <thead>\n",
       "    <tr style=\"text-align: right;\">\n",
       "      <th></th>\n",
       "      <th>x</th>\n",
       "      <th>y</th>\n",
       "    </tr>\n",
       "  </thead>\n",
       "  <tbody>\n",
       "    <tr>\n",
       "      <th>x</th>\n",
       "      <td>1.00000</td>\n",
       "      <td>0.99534</td>\n",
       "    </tr>\n",
       "    <tr>\n",
       "      <th>y</th>\n",
       "      <td>0.99534</td>\n",
       "      <td>1.00000</td>\n",
       "    </tr>\n",
       "  </tbody>\n",
       "</table>\n",
       "</div>"
      ],
      "text/plain": [
       "         x        y\n",
       "x  1.00000  0.99534\n",
       "y  0.99534  1.00000"
      ]
     },
     "execution_count": 53,
     "metadata": {},
     "output_type": "execute_result"
    }
   ],
   "source": [
    "train_df.corr()"
   ]
  },
  {
   "cell_type": "code",
   "execution_count": 54,
   "metadata": {},
   "outputs": [
    {
     "data": {
      "text/plain": [
       "<matplotlib.axes._subplots.AxesSubplot at 0x7fc1b8839240>"
      ]
     },
     "execution_count": 54,
     "metadata": {},
     "output_type": "execute_result"
    },
    {
     "data": {
      "image/png": "[encoded data removed]",
      "text/plain": [
       "<Figure size 432x288 with 1 Axes>"
      ]
     },
     "metadata": {
      "needs_background": "light"
     },
     "output_type": "display_data"
    }
   ],
   "source": [
    "sb.boxplot(data=train_df,palette='autumn')\n"
   ]
  },
  {
   "cell_type": "code",
   "execution_count": 55,
   "metadata": {},
   "outputs": [
    {
     "data": {
      "text/plain": [
       "<matplotlib.axes._subplots.AxesSubplot at 0x7fc1b8ced6d8>"
      ]
     },
     "execution_count": 55,
     "metadata": {},
     "output_type": "execute_result"
    },
    {
     "data": {
      "image/png": "[encoded data removed]",
      "text/plain": [
       "<Figure size 432x288 with 1 Axes>"
      ]
     },
     "metadata": {
      "needs_background": "light"
     },
     "output_type": "display_data"
    }
   ],
   "source": [
    "sb.boxplot(data=test_df,palette='autumn')"
   ]
  },
  {
   "cell_type": "code",
   "execution_count": 61,
   "metadata": {},
   "outputs": [
    {
     "name": "stdout",
     "output_type": "stream",
     "text": [
      "skewness:= 26.457513109730293\n",
      "mean is:= 221880009852.39642 median is: 5764801.0\n",
      "right skewed\n"
     ]
    },
    {
     "data": {
      "image/png": "[encoded data removed]",
      "text/plain": [
       "<Figure size 432x288 with 1 Axes>"
      ]
     },
     "metadata": {
      "needs_background": "light"
     },
     "output_type": "display_data"
    }
   ],
   "source": [
    "#find skewness\n",
    "target=(np.square((train_df['x'])))\n",
    "print(\"skewness:=\",target.skew())\n",
    "print(\"mean is:=\",target.mean(),\"median is:\",target.median())\n",
    "if target.mean()<target.median():\n",
    "    print(\"left skewed\")\n",
    "elif target.mean()>target.median():\n",
    "    print(\"right skewed\")\n",
    "else:\n",
    "    print(\"no skewness\")\n",
    "sb.distplot(target)\n",
    "train_df['x']=target"
   ]
  },
  {
   "cell_type": "code",
   "execution_count": 57,
   "metadata": {},
   "outputs": [
    {
     "data": {
      "text/plain": [
       "x    15281.000000\n",
       "y    15361.515329\n",
       "dtype: float64"
      ]
     },
     "execution_count": 57,
     "metadata": {},
     "output_type": "execute_result"
    }
   ],
   "source": [
    "test_df=pd.read_csv('test.csv')\n",
    "test_df.sum()"
   ]
  },
  {
   "cell_type": "code",
   "execution_count": 58,
   "metadata": {},
   "outputs": [],
   "source": [
    "import numpy as np\n",
    "import pandas as pd"
   ]
  },
  {
   "cell_type": "code",
   "execution_count": 59,
   "metadata": {},
   "outputs": [
    {
     "name": "stdout",
     "output_type": "stream",
     "text": [
      "gradient decent for theta_0 0.03676954247709635\n",
      "gradient decent for theta_1 0.9962444705152792\n",
      "Accuracy: 86.07588147010489\n"
     ]
    },
    {
     "data": {
      "image/png": "[encoded data removed]",
      "text/plain": [
       "<Figure size 432x288 with 1 Axes>"
      ]
     },
     "metadata": {
      "needs_background": "light"
     },
     "output_type": "display_data"
    },
    {
     "data": {
      "image/png": "[encoded data removed]",
      "text/plain": [
       "<Figure size 432x288 with 1 Axes>"
      ]
     },
     "metadata": {
      "needs_background": "light"
     },
     "output_type": "display_data"
    }
   ],
   "source": [
    "train = pd.read_csv('train.csv')\n",
    "test = pd.read_csv('test.csv')\n",
    "\n",
    "class Linear_regression:\n",
    "    \n",
    "    def __init__(self):\n",
    "        \n",
    "        self.learning_rate=0.001\n",
    "        self.theta_0=0.1\n",
    "        self.theta_1=1\n",
    "        self.epoch=1000\n",
    "        \n",
    "        \n",
    "        \n",
    "    # handling missing data\n",
    "    def missing_data(self):\n",
    "        train.replace(np.NaN,train.mean(),inplace=True)\n",
    "        test.replace(np.NaN,test.mean(),inplace=True)\n",
    "        return train,test \n",
    "    \n",
    "    def remove_outliers(self,train_data):\n",
    "        low=.05\n",
    "        high=.95\n",
    "        quantile_train_data=train_data.quantile([low,high])\n",
    "        for name in list (train_data.columns):\n",
    "            if ptypes.is_numeric_dtype(train_data[name]):\n",
    "                train_data=train_data[(train_data[name]>quantile_train_data.loc[low,name])&(train_data[name]<quantile_train_data.loc[high,name])]\n",
    "        return train_data\n",
    "        \n",
    "\n",
    "    \n",
    "    # feature scaling\n",
    "    def Feature_scaling(self,train_df):\n",
    "        for Column in train_df.columns:\n",
    "                train_df[Column]=(train_df[Column]-train_df[Column].mean())/np.std(train_df[Column])\n",
    "        return train_df\n",
    "    \n",
    "    #gradient decent\n",
    "    def gradient_decent(self,x_train_data,y_train_data):\n",
    "        theta_0=self.theta_0\n",
    "        theta_1=self.theta_1\n",
    "        for iteration in range(self.epoch):\n",
    "            cost=0\n",
    "            h1=h2=0.0\n",
    "            cost_temp=0.0\n",
    "            \n",
    "            for data in range(len(x_train_data)):\n",
    "                #H(x) = theta_0 + theta_1*X(i)\n",
    "                hypothesis =theta_0 +(theta_1 * x_train_data[data])\n",
    "\n",
    "                # h1=theta_0+theta_1*x(i)-y(i)\n",
    "                h1 +=(hypothesis-y_train_data[data])\n",
    "\n",
    "                # h1=(theta_0+theta_1*x(i)-y(i))*x(i)\n",
    "                h2 += ((hypothesis-y_train_data[data])*x_train_data[data])\n",
    "                \n",
    "                cost += hypothesis-y_train_data[data]\n",
    "                \n",
    "             # getting minimum cost function basic\n",
    "            cost_temp += (hypothesis-y_train_data[data])**2\n",
    "                      \n",
    "            cost=(1/2*len(x_train_data))*cost_temp\n",
    "                      \n",
    "            theta_0=theta_0-((self.learning_rate*h1)/len(x_train_data))\n",
    "             \n",
    "            theta_1=theta_1-((self.learning_rate*h2)/len(x_train_data))\n",
    "        return theta_0,theta_1\n",
    "        \n",
    "    #perform testing dataset\n",
    "    def predict(self,x_test_data,theta_0,theta_1):\n",
    "        y_predict=[0]*len(x_test_data)\n",
    "        for i in range(len(x_test_data)):\n",
    "            y_predict[i]=(theta_0+(theta_1*x_test_data[i]))\n",
    "        return y_predict\n",
    "\n",
    "\n",
    "    # calculating accurancy\n",
    "    def accuracy(self,y_test_data,y_predict):\n",
    "        diff=0\n",
    "        for i in range(len(y_test_data)):\n",
    "            diff +=abs((y_predict[i]-y_test_data[i])/y_test_data[i])\n",
    "        diff=(diff/len(y_test_data))\n",
    "        data_accuracy=1-diff\n",
    "        return data_accuracy*100\n",
    "    \n",
    "    \n",
    "    \n",
    "           \n",
    "def main():\n",
    "    obj = Linear_regression()\n",
    "    train,test=obj.missing_data()\n",
    "    #print(\"missing train data\",train)\n",
    "    #print(\"missing test data:\",test)\n",
    "    \n",
    "    \n",
    "     # remove outliers\n",
    "    train=obj.remove_outliers(train)\n",
    "#     print(\"remove outliers data\"\"\\n\",train)\n",
    "    \n",
    "    # feature scaling\n",
    "    train_df = obj.Feature_scaling(train)\n",
    "    #print(\"scaled train :\",train)\n",
    "    \n",
    "   \n",
    "\n",
    "    #seperate  the train data\n",
    "    x_train_data=np.array(train['x'])\n",
    "    y_train_data=np.array(train['y'])\n",
    "    #print(\"train data\"\"\\n\",train_data)\n",
    "\n",
    "    #seperate the test data\n",
    "    x_test_data=np.array(test['x'])\n",
    "    y_test_data=np.array(test['y'])\n",
    "    #print(\"test data:\"\"\\n\",test_data)\n",
    "    \n",
    "    \n",
    "    theta_0,theta_1=obj.gradient_decent(x_train_data,y_train_data)\n",
    "    print(\"gradient decent for theta_0\",theta_0)\n",
    "    print(\"gradient decent for theta_1\",theta_1)\n",
    "    \n",
    "#     #test data over train data\n",
    "    y_predict_test = obj.predict(x_test_data,theta_0,theta_1)\n",
    "#     y_predict_test=obj.test(x_test_data,theta_0,theta_1)\n",
    "    y_predict_train=obj.predict(x_train_data,theta_0,theta_1)\n",
    "#     print(y_predict_test)\n",
    "    \n",
    "#     get accuracy\n",
    "    accuracy=obj.accuracy(y_test_data,y_predict_test)\n",
    "    \n",
    "#     display accuracy\n",
    "    print(\"Accuracy:\",accuracy)\n",
    "\n",
    "# plotting test data on predication value\n",
    "    plt.scatter(x_test_data,y_test_data,color='b',label='Test data Set')\n",
    "    plt.plot(x_test_data,y_predict_test,color='r',label='predicated values')\n",
    "    plt.legend()\n",
    "    plt.show()\n",
    "    \n",
    "    # plotting train data on predication value\n",
    "    plt.scatter(x_train_data,y_train_data,color='g',label='Train data Set')\n",
    "    plt.plot(x_train_data,y_predict_train,color='y',label='predicated values')\n",
    "    plt.legend()\n",
    "    plt.show()\n",
    "   \n",
    "    \n",
    "\n",
    "if __name__=='__main__':\n",
    "    main()"
   ]
  },
  {
   "cell_type": "code",
   "execution_count": null,
   "metadata": {},
   "outputs": [],
   "source": []
  },
  {
   "cell_type": "code",
   "execution_count": null,
   "metadata": {},
   "outputs": [],
   "source": []
  }
 ],
 "metadata": {
  "kernelspec": {
   "display_name": "Python 3",
   "language": "python",
   "name": "python3"
  },
  "language_info": {
   "codemirror_mode": {
    "name": "ipython",
    "version": 3
   },
   "file_extension": ".py",
   "mimetype": "text/x-python",
   "name": "python",
   "nbconvert_exporter": "python",
   "pygments_lexer": "ipython3",
   "version": "3.6.7"
  }
 },
 "nbformat": 4,
 "nbformat_minor": 2
}
